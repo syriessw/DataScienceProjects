{
 "cells": [
  {
   "cell_type": "markdown",
   "id": "6f3706aa",
   "metadata": {},
   "source": [
    "# RAG Embeddings Practice"
   ]
  },
  {
   "cell_type": "code",
   "execution_count": 1,
   "id": "d165a6a8",
   "metadata": {},
   "outputs": [
    {
     "name": "stdout",
     "output_type": "stream",
     "text": [
      "Collecting qdrant_client\n",
      "  Downloading qdrant_client-1.12.1-py3-none-any.whl.metadata (10 kB)\n",
      "Requirement already satisfied: grpcio>=1.41.0 in h:\\anaconda3\\lib\\site-packages (from qdrant_client) (1.67.0)\n",
      "Collecting grpcio-tools>=1.41.0 (from qdrant_client)\n",
      "  Downloading grpcio_tools-1.68.0-cp310-cp310-win_amd64.whl.metadata (5.5 kB)\n",
      "Requirement already satisfied: httpx>=0.20.0 in h:\\anaconda3\\lib\\site-packages (from httpx[http2]>=0.20.0->qdrant_client) (0.27.0)\n",
      "Requirement already satisfied: numpy>=1.21 in h:\\anaconda3\\lib\\site-packages (from qdrant_client) (1.26.4)\n",
      "Collecting portalocker<3.0.0,>=2.7.0 (from qdrant_client)\n",
      "  Downloading portalocker-2.10.1-py3-none-any.whl.metadata (8.5 kB)\n",
      "Requirement already satisfied: pydantic>=1.10.8 in h:\\anaconda3\\lib\\site-packages (from qdrant_client) (2.8.2)\n",
      "Requirement already satisfied: urllib3<3,>=1.26.14 in h:\\anaconda3\\lib\\site-packages (from qdrant_client) (2.2.2)\n",
      "Collecting protobuf<6.0dev,>=5.26.1 (from grpcio-tools>=1.41.0->qdrant_client)\n",
      "  Downloading protobuf-5.28.3-cp310-abi3-win_amd64.whl.metadata (592 bytes)\n",
      "Collecting grpcio>=1.41.0 (from qdrant_client)\n",
      "  Downloading grpcio-1.68.0-cp310-cp310-win_amd64.whl.metadata (4.0 kB)\n",
      "Requirement already satisfied: setuptools in h:\\anaconda3\\lib\\site-packages (from grpcio-tools>=1.41.0->qdrant_client) (75.1.0)\n",
      "Requirement already satisfied: anyio in h:\\anaconda3\\lib\\site-packages (from httpx>=0.20.0->httpx[http2]>=0.20.0->qdrant_client) (4.2.0)\n",
      "Requirement already satisfied: certifi in h:\\anaconda3\\lib\\site-packages (from httpx>=0.20.0->httpx[http2]>=0.20.0->qdrant_client) (2024.8.30)\n",
      "Requirement already satisfied: httpcore==1.* in h:\\anaconda3\\lib\\site-packages (from httpx>=0.20.0->httpx[http2]>=0.20.0->qdrant_client) (1.0.2)\n",
      "Requirement already satisfied: idna in h:\\anaconda3\\lib\\site-packages (from httpx>=0.20.0->httpx[http2]>=0.20.0->qdrant_client) (3.7)\n",
      "Requirement already satisfied: sniffio in h:\\anaconda3\\lib\\site-packages (from httpx>=0.20.0->httpx[http2]>=0.20.0->qdrant_client) (1.3.0)\n",
      "Requirement already satisfied: h11<0.15,>=0.13 in h:\\anaconda3\\lib\\site-packages (from httpcore==1.*->httpx>=0.20.0->httpx[http2]>=0.20.0->qdrant_client) (0.14.0)\n",
      "Collecting h2<5,>=3 (from httpx[http2]>=0.20.0->qdrant_client)\n",
      "  Downloading h2-4.1.0-py3-none-any.whl.metadata (3.6 kB)\n",
      "Requirement already satisfied: pywin32>=226 in h:\\anaconda3\\lib\\site-packages (from portalocker<3.0.0,>=2.7.0->qdrant_client) (305.1)\n",
      "Requirement already satisfied: annotated-types>=0.4.0 in h:\\anaconda3\\lib\\site-packages (from pydantic>=1.10.8->qdrant_client) (0.6.0)\n",
      "Requirement already satisfied: pydantic-core==2.20.1 in h:\\anaconda3\\lib\\site-packages (from pydantic>=1.10.8->qdrant_client) (2.20.1)\n",
      "Requirement already satisfied: typing-extensions>=4.6.1 in h:\\anaconda3\\lib\\site-packages (from pydantic>=1.10.8->qdrant_client) (4.11.0)\n",
      "Collecting hyperframe<7,>=6.0 (from h2<5,>=3->httpx[http2]>=0.20.0->qdrant_client)\n",
      "  Downloading hyperframe-6.0.1-py3-none-any.whl.metadata (2.7 kB)\n",
      "Collecting hpack<5,>=4.0 (from h2<5,>=3->httpx[http2]>=0.20.0->qdrant_client)\n",
      "  Downloading hpack-4.0.0-py3-none-any.whl.metadata (2.5 kB)\n",
      "Requirement already satisfied: exceptiongroup>=1.0.2 in h:\\anaconda3\\lib\\site-packages (from anyio->httpx>=0.20.0->httpx[http2]>=0.20.0->qdrant_client) (1.2.0)\n",
      "Downloading qdrant_client-1.12.1-py3-none-any.whl (267 kB)\n",
      "Downloading grpcio_tools-1.68.0-cp310-cp310-win_amd64.whl (1.1 MB)\n",
      "   ---------------------------------------- 0.0/1.1 MB ? eta -:--:--\n",
      "   ---------------------------------------- 1.1/1.1 MB 55.7 MB/s eta 0:00:00\n",
      "Downloading grpcio-1.68.0-cp310-cp310-win_amd64.whl (4.4 MB)\n",
      "   ---------------------------------------- 0.0/4.4 MB ? eta -:--:--\n",
      "   ---------------------------------------- 4.4/4.4 MB 88.0 MB/s eta 0:00:00\n",
      "Downloading portalocker-2.10.1-py3-none-any.whl (18 kB)\n",
      "Downloading h2-4.1.0-py3-none-any.whl (57 kB)\n",
      "Downloading protobuf-5.28.3-cp310-abi3-win_amd64.whl (431 kB)\n",
      "Downloading hpack-4.0.0-py3-none-any.whl (32 kB)\n",
      "Downloading hyperframe-6.0.1-py3-none-any.whl (12 kB)\n",
      "Installing collected packages: protobuf, portalocker, hyperframe, hpack, grpcio, h2, grpcio-tools, qdrant_client\n",
      "  Attempting uninstall: protobuf\n",
      "    Found existing installation: protobuf 3.20.3\n",
      "    Uninstalling protobuf-3.20.3:\n",
      "      Successfully uninstalled protobuf-3.20.3\n",
      "  Attempting uninstall: grpcio\n",
      "    Found existing installation: grpcio 1.67.0\n",
      "    Uninstalling grpcio-1.67.0:\n",
      "      Successfully uninstalled grpcio-1.67.0\n",
      "Successfully installed grpcio-1.68.0 grpcio-tools-1.68.0 h2-4.1.0 hpack-4.0.0 hyperframe-6.0.1 portalocker-2.10.1 protobuf-5.28.3 qdrant_client-1.12.1\n"
     ]
    },
    {
     "name": "stderr",
     "output_type": "stream",
     "text": [
      "ERROR: pip's dependency resolver does not currently take into account all the packages that are installed. This behaviour is the source of the following dependency conflicts.\n",
      "opentelemetry-proto 1.27.0 requires protobuf<5.0,>=3.19, but you have protobuf 5.28.3 which is incompatible.\n"
     ]
    }
   ],
   "source": [
    "!pip install qdrant_client"
   ]
  },
  {
   "cell_type": "markdown",
   "id": "3749b5c6",
   "metadata": {},
   "source": [
    "## Import libraries"
   ]
  },
  {
   "cell_type": "code",
   "execution_count": 3,
   "id": "466b6dd4",
   "metadata": {},
   "outputs": [
    {
     "name": "stderr",
     "output_type": "stream",
     "text": [
      "H:\\Anaconda3\\lib\\site-packages\\sentence_transformers\\cross_encoder\\CrossEncoder.py:13: TqdmExperimentalWarning: Using `tqdm.autonotebook.tqdm` in notebook mode. Use `tqdm.tqdm` instead to force console mode (e.g. in jupyter console)\n",
      "  from tqdm.autonotebook import tqdm, trange\n"
     ]
    }
   ],
   "source": [
    "# Pandas to read csv and preprocess data\n",
    "import pandas as pd\n",
    "\n",
    "# Qdrant for vector database, storing of processed information from CSV\n",
    "from qdrant_client import models, QdrantClient\n",
    "\n",
    "# Sentence transformer to tokenise and encode\n",
    "from sentence_transformers import SentenceTransformer"
   ]
  },
  {
   "cell_type": "markdown",
   "id": "a41e301e",
   "metadata": {},
   "source": [
    "## Preprocess CSV"
   ]
  },
  {
   "cell_type": "code",
   "execution_count": 4,
   "id": "22f1a540",
   "metadata": {},
   "outputs": [
    {
     "data": {
      "text/plain": [
       "700"
      ]
     },
     "execution_count": 4,
     "metadata": {},
     "output_type": "execute_result"
    }
   ],
   "source": [
    "df = pd.read_csv('top_rated_wines.csv')\n",
    "df = df[df['variety'].notna()] # remove any NaN values as it blows up serialization\n",
    "data = df.sample(700).to_dict('records') # Get only 700 records. More records make it slower to index\n",
    "\n",
    "len(data)"
   ]
  },
  {
   "cell_type": "code",
   "execution_count": 9,
   "id": "a438cda9",
   "metadata": {},
   "outputs": [
    {
     "data": {
      "text/plain": [
       "[{'name': 'Kanzler Vineyards Pinot Noir 2007',\n",
       "  'region': 'North Coast, California',\n",
       "  'variety': 'Red Wine',\n",
       "  'rating': 96.0,\n",
       "  'notes': 'Dark ruby color. Intense flavors of black cherry, boysenberry and blueberry. Wonderful nose of rose petals and spice combined with a delightful earthiness. A big, but well balanced wine with good acid and soft tannins to complement the conentrated fruit flavors. A wine that reveals layer upon layer of mouthwatering structure, depth and complexity as it lingers on the palette. '},\n",
       " {'name': 'Guigal La Mouline Cote Rotie 2009',\n",
       "  'region': 'Cote Rotie, Rhone, France',\n",
       "  'variety': 'Red Wine',\n",
       "  'rating': 98.0,\n",
       "  'notes': 'Ruby red with bright red highlights. On the nose, small red fruits, blackberry and floral aromas of violets, powerful but fine aromatic intensity. The wine has a soft mouthfeel and beautiful harmony between the fine flavors and explosive richness due to the concentration. A voluptuous feminine wine with a velvety or silky texture and intense aromatics.'},\n",
       " {'name': 'Donelan Richards Family Vineyard Syrah (scuffed labels) 2008',\n",
       "  'region': 'Sonoma Valley, Sonoma County, California',\n",
       "  'variety': 'Red Wine',\n",
       "  'rating': 97.0,\n",
       "  'notes': 'As it breathes in the glass, the wine begins to whisper the reasons we and so many have come to love it. Herb encrusted lamb, graphite, freshly-cut lavender and cherry liquor are just some of the aromas that lift from the glass. The palate of the wine starts with such a distinct sensation, like the first spoonful of chocolate mousse, followed with what is actually quiet distinct tannin that cradles a very full and compelling finish.'},\n",
       " {'name': 'Chateau Latour 2000',\n",
       "  'region': 'Pauillac, Bordeaux, France',\n",
       "  'variety': 'Red Wine',\n",
       "  'rating': 97.0,\n",
       "  'notes': \"Impressive deep, dark color. The wine has powerful, balanced structure. The dense structures and the unique qualities of the tannins may be superior to those of the '96 and '90 vintage. The balance of the wine combines class, rigor, complexity and great finesse in the fruit.\"},\n",
       " {'name': 'Krug Vintage Brut with Gift Box 2002',\n",
       "  'region': 'Champagne, France',\n",
       "  'variety': 'Sparkling & Champagne',\n",
       "  'rating': 96.0,\n",
       "  'notes': 'Fruit, freshness, balance, expressiveness, vivacity and finesse, all at the same time. Krug 2002 is only possible thanks to the unique, detailed approach of the House of Krug to creating Champagnes. '},\n",
       " {'name': 'Domaine Coche-Dury Corton-Charlemagne Grand Cru 2011',\n",
       "  'region': 'Burgundy, France',\n",
       "  'variety': 'White Wine',\n",
       "  'rating': 96.0,\n",
       "  'notes': 'The palate has perfect acidity and subtle spicy notes on the entry: hints of lime flower, citrus lemon and a subtle note of mandarin coming through with aeration. Is exhibits balletic poise on the finish – a sensational Corton-Charlemagne that just may turn out to be just as good as the 2010.'},\n",
       " {'name': 'Clos du Caillou Chateauneuf-du-Pape Reserve 2011',\n",
       "  'region': 'Chateauneuf-du-Pape, Rhone, France',\n",
       "  'variety': 'Red Wine',\n",
       "  'rating': 96.0,\n",
       "  'notes': 'This wine has a beautiful garnet red color. The nose has very elegant and complex aromas, where one discovers notes of balsamic, flint,  black fruit dessert and wild plum. The palate is dominated by ripe fruit, rich and balanced with lots of freshness. It combines red fruit aromas, blood orange, peppermint, prunes, licorice and blueberry coulis. '},\n",
       " {'name': 'Bodegas Pujanza Norte 2016',\n",
       "  'region': 'Rioja, Spain',\n",
       "  'variety': 'Red Wine',\n",
       "  'rating': 96.0,\n",
       "  'notes': 'Intense cherry-red color with violet glints. Clear and bright. Wild berries, spices and well-integrated oak. Wild and complex red with palate-tingling acidity, chalky freshness and flavors of plum and damson embellished by stylish French barrel notes.'},\n",
       " {'name': 'Lewis Cellars Cabernet Sauvignon 2002',\n",
       "  'region': 'Napa Valley, California',\n",
       "  'variety': 'Red Wine',\n",
       "  'rating': 96.0,\n",
       "  'notes': 'Showcasing the unique personalities of small hillside vineyards from Pritchard Hill, Oakville and Rutherford, the 2002 Napa Valley Cabernet delivers compelling aromas of mocha, ripe berries, tobacco and sweet oak spice. The wine is 100% Cabernet Sauvignon, complex, rich and focused. With a deep core of black fruit and traces of briar and vanilla, it turns chocolaty and long on the palate with serious, integrated tannins.'},\n",
       " {'name': 'Kilikanoon Oracle Shiraz 2003',\n",
       "  'region': 'Clare Valley, South Australia, Australia',\n",
       "  'variety': 'Red Wine',\n",
       "  'rating': 97.0,\n",
       "  'notes': 'Intense, inky / crimson red with distinct youthful, purple hues. Lifted sweet plum and berry fruits. Hints of coffee, chocolate and menthol integrate and complex well with the spicy French oak. Palate is richly textured and flavoured, initial sweet plum and berry fruits integrated with the firm tannins and a smooth, alcohol finish. The palates natural acidity and subtle oak characters provide length, complexity and persistence.'}]"
      ]
     },
     "execution_count": 9,
     "metadata": {},
     "output_type": "execute_result"
    }
   ],
   "source": [
    "data[:10]"
   ]
  },
  {
   "cell_type": "code",
   "execution_count": 5,
   "id": "fcf9e462",
   "metadata": {},
   "outputs": [
    {
     "data": {
      "application/vnd.jupyter.widget-view+json": {
       "model_id": "17e6d62e916b4576b0424f788afb67c6",
       "version_major": 2,
       "version_minor": 0
      },
      "text/plain": [
       "modules.json:   0%|          | 0.00/349 [00:00<?, ?B/s]"
      ]
     },
     "metadata": {},
     "output_type": "display_data"
    },
    {
     "name": "stderr",
     "output_type": "stream",
     "text": [
      "H:\\Anaconda3\\lib\\site-packages\\huggingface_hub\\file_download.py:139: UserWarning: `huggingface_hub` cache-system uses symlinks by default to efficiently store duplicated files but your machine does not support them in C:\\Users\\Ning\\.cache\\huggingface\\hub\\models--sentence-transformers--all-MiniLM-L6-v2. Caching files will still work but in a degraded version that might require more space on your disk. This warning can be disabled by setting the `HF_HUB_DISABLE_SYMLINKS_WARNING` environment variable. For more details, see https://huggingface.co/docs/huggingface_hub/how-to-cache#limitations.\n",
      "To support symlinks on Windows, you either need to activate Developer Mode or to run Python as an administrator. In order to activate developer mode, see this article: https://docs.microsoft.com/en-us/windows/apps/get-started/enable-your-device-for-development\n",
      "  warnings.warn(message)\n"
     ]
    },
    {
     "data": {
      "application/vnd.jupyter.widget-view+json": {
       "model_id": "ad1dbca1224b41f9a238d26f45218c05",
       "version_major": 2,
       "version_minor": 0
      },
      "text/plain": [
       "config_sentence_transformers.json:   0%|          | 0.00/116 [00:00<?, ?B/s]"
      ]
     },
     "metadata": {},
     "output_type": "display_data"
    },
    {
     "data": {
      "application/vnd.jupyter.widget-view+json": {
       "model_id": "1f7bf9524c0049bf8216d65eb0bb0723",
       "version_major": 2,
       "version_minor": 0
      },
      "text/plain": [
       "README.md:   0%|          | 0.00/10.7k [00:00<?, ?B/s]"
      ]
     },
     "metadata": {},
     "output_type": "display_data"
    },
    {
     "data": {
      "application/vnd.jupyter.widget-view+json": {
       "model_id": "8d9f53982eaa4baabec6f7109188fee4",
       "version_major": 2,
       "version_minor": 0
      },
      "text/plain": [
       "sentence_bert_config.json:   0%|          | 0.00/53.0 [00:00<?, ?B/s]"
      ]
     },
     "metadata": {},
     "output_type": "display_data"
    },
    {
     "data": {
      "application/vnd.jupyter.widget-view+json": {
       "model_id": "96a25254fbaf4f9b8bb96dcc9b436a7e",
       "version_major": 2,
       "version_minor": 0
      },
      "text/plain": [
       "config.json:   0%|          | 0.00/612 [00:00<?, ?B/s]"
      ]
     },
     "metadata": {},
     "output_type": "display_data"
    },
    {
     "data": {
      "application/vnd.jupyter.widget-view+json": {
       "model_id": "0051cefecde241ed910243a4c37c5b1f",
       "version_major": 2,
       "version_minor": 0
      },
      "text/plain": [
       "model.safetensors:   0%|          | 0.00/90.9M [00:00<?, ?B/s]"
      ]
     },
     "metadata": {},
     "output_type": "display_data"
    },
    {
     "data": {
      "application/vnd.jupyter.widget-view+json": {
       "model_id": "aeb5af80ba344d4bbc6039ee7625cf8b",
       "version_major": 2,
       "version_minor": 0
      },
      "text/plain": [
       "tokenizer_config.json:   0%|          | 0.00/350 [00:00<?, ?B/s]"
      ]
     },
     "metadata": {},
     "output_type": "display_data"
    },
    {
     "data": {
      "application/vnd.jupyter.widget-view+json": {
       "model_id": "56966b70085e4d3b94ab592829725523",
       "version_major": 2,
       "version_minor": 0
      },
      "text/plain": [
       "vocab.txt:   0%|          | 0.00/232k [00:00<?, ?B/s]"
      ]
     },
     "metadata": {},
     "output_type": "display_data"
    },
    {
     "data": {
      "application/vnd.jupyter.widget-view+json": {
       "model_id": "b820c83d559f4e46b2f09ea43120d425",
       "version_major": 2,
       "version_minor": 0
      },
      "text/plain": [
       "tokenizer.json:   0%|          | 0.00/466k [00:00<?, ?B/s]"
      ]
     },
     "metadata": {},
     "output_type": "display_data"
    },
    {
     "data": {
      "application/vnd.jupyter.widget-view+json": {
       "model_id": "8a04136256bf4e1099858debb8bd602f",
       "version_major": 2,
       "version_minor": 0
      },
      "text/plain": [
       "special_tokens_map.json:   0%|          | 0.00/112 [00:00<?, ?B/s]"
      ]
     },
     "metadata": {},
     "output_type": "display_data"
    },
    {
     "data": {
      "application/vnd.jupyter.widget-view+json": {
       "model_id": "dd625500bf144cf1a80f8801f7904630",
       "version_major": 2,
       "version_minor": 0
      },
      "text/plain": [
       "1_Pooling/config.json:   0%|          | 0.00/190 [00:00<?, ?B/s]"
      ]
     },
     "metadata": {},
     "output_type": "display_data"
    }
   ],
   "source": [
    "# Encode with MiniLM\n",
    "# Define the model name\n",
    "model_name = \"sentence-transformers/all-MiniLM-L6-v2\"\n",
    "\n",
    "# Load the model and save it locally\n",
    "encoder = SentenceTransformer(model_name)"
   ]
  },
  {
   "cell_type": "code",
   "execution_count": 6,
   "id": "6070c6be",
   "metadata": {},
   "outputs": [],
   "source": [
    "# create the vector database client\n",
    "qdrant = QdrantClient(\":memory:\") # Create in-memory Qdrant instance"
   ]
  },
  {
   "cell_type": "code",
   "execution_count": 7,
   "id": "77e1966b",
   "metadata": {},
   "outputs": [
    {
     "name": "stderr",
     "output_type": "stream",
     "text": [
      "C:\\Users\\Ning\\AppData\\Local\\Temp\\ipykernel_9968\\3737998620.py:2: DeprecationWarning: `recreate_collection` method is deprecated and will be removed in the future. Use `collection_exists` to check collection existence and `create_collection` instead.\n",
      "  qdrant.recreate_collection(\n"
     ]
    },
    {
     "data": {
      "text/plain": [
       "True"
      ]
     },
     "execution_count": 7,
     "metadata": {},
     "output_type": "execute_result"
    }
   ],
   "source": [
    "# Create collection to store wines\n",
    "qdrant.recreate_collection(\n",
    "    collection_name=\"top_wines\",\n",
    "    vectors_config=models.VectorParams(\n",
    "        size=encoder.get_sentence_embedding_dimension(), # Vector Size is defined by used model\n",
    "        distance = models.Distance.COSINE\n",
    "    )\n",
    ")"
   ]
  },
  {
   "cell_type": "code",
   "execution_count": 8,
   "id": "fbd8a6cb",
   "metadata": {},
   "outputs": [],
   "source": [
    "# Vectorize\n",
    "qdrant.upload_points(\n",
    "    collection_name = \"top_wines\",\n",
    "    points = [\n",
    "        models.PointStruct(\n",
    "            id=idx,\n",
    "            vector=encoder.encode(doc[\"notes\"]).tolist(),\n",
    "            payload=doc,\n",
    "        ) for idx, doc in enumerate(data) # data is the variable holding all the wines\n",
    "    ]\n",
    ")"
   ]
  },
  {
   "cell_type": "code",
   "execution_count": 10,
   "id": "cae8ca66",
   "metadata": {},
   "outputs": [],
   "source": [
    "# Set a prompt\n",
    "user_prompt = \"Suggest an amazing Shiraz wine from Australia\""
   ]
  },
  {
   "cell_type": "code",
   "execution_count": 11,
   "id": "6a8bcce8",
   "metadata": {},
   "outputs": [
    {
     "name": "stdout",
     "output_type": "stream",
     "text": [
      "{'name': 'De Lisio Shiraz 2004', 'region': 'McLaren Vale, South Australia, Australia', 'variety': 'Red Wine', 'rating': 96.0, 'notes': '\"The profound 2004 Shiraz was cropped at a measly .5 tons of fruit per acre, and aged almost entirely in new French oak. It is a killer wine in a killer line-up from De Lisio in 2004. Dense blue/purple to the rim, this highly extracted (but not overly extracted) effort reveals notes of crushed rocks, blueberries, blackberries, camphor, lead pencil shavings, and spicy oak. Boasting great purity, a full-bodied, opulent texture, huge richness, but no sense of pruniness or flabbiness given its precision and refreshing structure, this is a well-balanced, potentially complex McLaren Vale blockbuster. It should drink well for 15+ years.\" - Wine Advocate'} score: 0.6775632971328055\n",
      "{'name': 'De Lisio The Catalyst Shiraz/Grenache 2004', 'region': 'McLaren Vale, South Australia, Australia', 'variety': 'Red Wine', 'rating': 96.0, 'notes': '\"A blockbuster in the making, the 2004 Shiraz/Grenache The Catalyst (80% Shiraz and 20% Grenache aged in primarily neutral French wood) boasts fabulous aromas of flowers, lead pencil shavings, blackberries, cassis, and subtle wood. This full-bodied, intensely packed and stacked effort possesses huge fruit extract, wonderful, mouth-coating glycerin, and a purity as well as seamlessness that must be tasted to be believed. Drink this undeniably profound Australian red over the next 10-15 years.\" - Wine Advocate'} score: 0.6502199041301986\n",
      "{'name': 'By Farr Shiraz 2014', 'region': 'Geelong, Victoria, Australia', 'variety': 'Red Wine', 'rating': 96.0, 'notes': 'A powerful nose, with the depth and complexity of cool-climate shiraz. This wine is spiced with pepper and mineral elements, leaning towards earthy. The co-fermented viognier adds a little richness to both the bouquet and palate, which has a very pleasant sweetness to start, followed by intense fruit and earthy long tannins to complete the delicate structure and overall elegance of the wine.'} score: 0.6390283537459702\n",
      "{'name': \"Greenock Creek Alice's Shiraz 2003\", 'region': 'Barossa Valley, Barossa, South Australia, Australia', 'variety': 'Red Wine', 'rating': 97.0, 'notes': 'Rich and fleshy, with pretty coffee, plum, wild berry and spice notes that are smooth and polished, long and flavorful.  An extremely limited release wine from one of Australia\\'s \"Cult\" wineries.'} score: 0.6004062664469384\n",
      "{'name': 'Greenock Creek Seven Acres Shiraz 1998', 'region': 'Barossa Valley, Barossa, South Australia, Australia', 'variety': 'Red Wine', 'rating': 96.0, 'notes': 'After it was planted in 1990, the Seven Acre block very quickly made clear its intention to supply low crops of intense Barossa Shiraz with a rare floral note highlighting its dainty, but dense bouquet. The palate is beautifully viscous and long, deliciously adorning the sensories like a magnificent silky drape. The tannins are leafy and green, but do nothing to interrupt that astonishing lingering smoothness of the finish and aftertaste. The wine offers great promise for the patient cellarmaster.'} score: 0.5902975869246054\n"
     ]
    }
   ],
   "source": [
    "# Time to execute a search\n",
    "# Return 5 results\n",
    "hits = qdrant.search(\n",
    "    collection_name=\"top_wines\",\n",
    "    query_vector = encoder.encode(user_prompt).tolist(),\n",
    "    limit = 5\n",
    ")\n",
    "for hit in hits:\n",
    "    print(hit.payload, \"score:\", hit.score)"
   ]
  },
  {
   "cell_type": "code",
   "execution_count": 12,
   "id": "ba99f9c8",
   "metadata": {},
   "outputs": [],
   "source": [
    "# We can see the results above\n",
    "# Define a variable to hold the search results\n",
    "search_results = [hit.payload for hit in hits]"
   ]
  },
  {
   "cell_type": "code",
   "execution_count": 20,
   "id": "b9359bc3",
   "metadata": {},
   "outputs": [
    {
     "data": {
      "text/plain": [
       "{'name': 'De Lisio Shiraz 2004',\n",
       " 'region': 'McLaren Vale, South Australia, Australia',\n",
       " 'variety': 'Red Wine',\n",
       " 'rating': 96.0,\n",
       " 'notes': '\"The profound 2004 Shiraz was cropped at a measly .5 tons of fruit per acre, and aged almost entirely in new French oak. It is a killer wine in a killer line-up from De Lisio in 2004. Dense blue/purple to the rim, this highly extracted (but not overly extracted) effort reveals notes of crushed rocks, blueberries, blackberries, camphor, lead pencil shavings, and spicy oak. Boasting great purity, a full-bodied, opulent texture, huge richness, but no sense of pruniness or flabbiness given its precision and refreshing structure, this is a well-balanced, potentially complex McLaren Vale blockbuster. It should drink well for 15+ years.\" - Wine Advocate'}"
      ]
     },
     "execution_count": 20,
     "metadata": {},
     "output_type": "execute_result"
    }
   ],
   "source": [
    "search_results[0]"
   ]
  },
  {
   "cell_type": "code",
   "execution_count": 16,
   "id": "22437a23",
   "metadata": {},
   "outputs": [],
   "source": [
    "# Set up Prompt Template\n",
    "PROMPT_TEMPLATE = \"\"\"\n",
    "Answer the question based only on the following context:\n",
    "\n",
    "{context}\n",
    "\n",
    "---\n",
    "\n",
    "Answer the question based on the above context: {question}\n",
    "\"\"\""
   ]
  },
  {
   "cell_type": "code",
   "execution_count": 22,
   "id": "d4ab4b77",
   "metadata": {},
   "outputs": [],
   "source": [
    "from langchain.prompts import ChatPromptTemplate\n",
    "# Example query\n",
    "query_text = user_prompt\n",
    "context_text = str(search_results)"
   ]
  },
  {
   "cell_type": "code",
   "execution_count": 23,
   "id": "4e32302a",
   "metadata": {},
   "outputs": [
    {
     "name": "stdout",
     "output_type": "stream",
     "text": [
      "Human: \n",
      "Answer the question based only on the following context:\n",
      "\n",
      "[{'name': 'De Lisio Shiraz 2004', 'region': 'McLaren Vale, South Australia, Australia', 'variety': 'Red Wine', 'rating': 96.0, 'notes': '\"The profound 2004 Shiraz was cropped at a measly .5 tons of fruit per acre, and aged almost entirely in new French oak. It is a killer wine in a killer line-up from De Lisio in 2004. Dense blue/purple to the rim, this highly extracted (but not overly extracted) effort reveals notes of crushed rocks, blueberries, blackberries, camphor, lead pencil shavings, and spicy oak. Boasting great purity, a full-bodied, opulent texture, huge richness, but no sense of pruniness or flabbiness given its precision and refreshing structure, this is a well-balanced, potentially complex McLaren Vale blockbuster. It should drink well for 15+ years.\" - Wine Advocate'}, {'name': 'De Lisio The Catalyst Shiraz/Grenache 2004', 'region': 'McLaren Vale, South Australia, Australia', 'variety': 'Red Wine', 'rating': 96.0, 'notes': '\"A blockbuster in the making, the 2004 Shiraz/Grenache The Catalyst (80% Shiraz and 20% Grenache aged in primarily neutral French wood) boasts fabulous aromas of flowers, lead pencil shavings, blackberries, cassis, and subtle wood. This full-bodied, intensely packed and stacked effort possesses huge fruit extract, wonderful, mouth-coating glycerin, and a purity as well as seamlessness that must be tasted to be believed. Drink this undeniably profound Australian red over the next 10-15 years.\" - Wine Advocate'}, {'name': 'By Farr Shiraz 2014', 'region': 'Geelong, Victoria, Australia', 'variety': 'Red Wine', 'rating': 96.0, 'notes': 'A powerful nose, with the depth and complexity of cool-climate shiraz. This wine is spiced with pepper and mineral elements, leaning towards earthy. The co-fermented viognier adds a little richness to both the bouquet and palate, which has a very pleasant sweetness to start, followed by intense fruit and earthy long tannins to complete the delicate structure and overall elegance of the wine.'}, {'name': \"Greenock Creek Alice's Shiraz 2003\", 'region': 'Barossa Valley, Barossa, South Australia, Australia', 'variety': 'Red Wine', 'rating': 97.0, 'notes': 'Rich and fleshy, with pretty coffee, plum, wild berry and spice notes that are smooth and polished, long and flavorful.  An extremely limited release wine from one of Australia\\'s \"Cult\" wineries.'}, {'name': 'Greenock Creek Seven Acres Shiraz 1998', 'region': 'Barossa Valley, Barossa, South Australia, Australia', 'variety': 'Red Wine', 'rating': 96.0, 'notes': 'After it was planted in 1990, the Seven Acre block very quickly made clear its intention to supply low crops of intense Barossa Shiraz with a rare floral note highlighting its dainty, but dense bouquet. The palate is beautifully viscous and long, deliciously adorning the sensories like a magnificent silky drape. The tannins are leafy and green, but do nothing to interrupt that astonishing lingering smoothness of the finish and aftertaste. The wine offers great promise for the patient cellarmaster.'}]\n",
      "\n",
      "---\n",
      "\n",
      "Answer the question based on the above context: Suggest an amazing Shiraz wine from Australia\n",
      "\n"
     ]
    }
   ],
   "source": [
    "# Load the template for the prompt\n",
    "prompt_template = ChatPromptTemplate.from_template(PROMPT_TEMPLATE)\n",
    "prompt = prompt_template.format(context=context_text, question=query_text)\n",
    "print(prompt)"
   ]
  },
  {
   "cell_type": "code",
   "execution_count": 25,
   "id": "33a90749",
   "metadata": {},
   "outputs": [
    {
     "name": "stdout",
     "output_type": "stream",
     "text": [
      " Based on the provided context, both the De Lisio Shiraz 2004 and the De Lisio The Catalyst Shiraz/Grenache 2004 received a rating of 96.0 from the Wine Advocate, indicating they are amazing Shiraz wines from Australia. However, if you're looking for a more recent vintage, the By Farr Shiraz 2014 is also a highly-rated Shiraz from Australia with a score of 96.0. For an older vintage, the Greenock Creek Alice's Shiraz 2003 received a rating of 97.0. The choice ultimately depends on your personal preference for wine styles and age.\n"
     ]
    }
   ],
   "source": [
    "# Time to connect to the local LLM\n",
    "# We are using Mistral\n",
    "from langchain_ollama import OllamaLLM\n",
    "\n",
    "model = OllamaLLM(model=\"mistral\")\n",
    "response_text = model.invoke(prompt)\n",
    "\n",
    "print(response_text)"
   ]
  },
  {
   "cell_type": "code",
   "execution_count": null,
   "id": "5dcfb22d",
   "metadata": {},
   "outputs": [],
   "source": []
  }
 ],
 "metadata": {
  "kernelspec": {
   "display_name": "Python 3 (ipykernel)",
   "language": "python",
   "name": "python3"
  },
  "language_info": {
   "codemirror_mode": {
    "name": "ipython",
    "version": 3
   },
   "file_extension": ".py",
   "mimetype": "text/x-python",
   "name": "python",
   "nbconvert_exporter": "python",
   "pygments_lexer": "ipython3",
   "version": "3.10.14"
  }
 },
 "nbformat": 4,
 "nbformat_minor": 5
}

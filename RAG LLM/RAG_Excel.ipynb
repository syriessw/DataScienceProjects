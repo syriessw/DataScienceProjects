{
 "cells": [
  {
   "cell_type": "markdown",
   "id": "88b8efff-1dc2-43e5-a1e0-9e1339fbe7ef",
   "metadata": {},
   "source": [
    "# Build RAG System with Unstructured Excel Data\n",
    "\n",
    "- Load Excel dataset containing course reviews\n",
    "- Combine relevant information into single column\n",
    "- Transform into format to be used for document processing with Hugging Face embeddings\n",
    "- Utilise FAISS database to store document\n",
    "- Use Open AI text generator to write response for query"
   ]
  },
  {
   "cell_type": "code",
   "execution_count": 1,
   "id": "519140df-cfe1-44a8-913d-8ceb7021a9cf",
   "metadata": {},
   "outputs": [],
   "source": [
    "# Libraries\n",
    "import pandas as pd\n",
    "from langchain_community.document_loaders import DataFrameLoader\n",
    "from langchain.embeddings import HuggingFaceEmbeddings\n",
    "from langchain.vectorstores.faiss import FAISS\n",
    "from openai import OpenAI\n",
    "from IPython.display import Markdown"
   ]
  },
  {
   "cell_type": "code",
   "execution_count": 2,
   "id": "68afcdee-19a6-4626-b691-c8e89ca6ae19",
   "metadata": {},
   "outputs": [],
   "source": [
    "# Load course reviews data from Excel into a DataFrame\n",
    "reviews = pd.read_excel('Reviews_lab.xlsx')"
   ]
  },
  {
   "cell_type": "code",
   "execution_count": 3,
   "id": "3f99befe-cb65-47ef-9035-5ed609ea06ea",
   "metadata": {},
   "outputs": [
    {
     "data": {
      "text/html": [
       "<div>\n",
       "<style scoped>\n",
       "    .dataframe tbody tr th:only-of-type {\n",
       "        vertical-align: middle;\n",
       "    }\n",
       "\n",
       "    .dataframe tbody tr th {\n",
       "        vertical-align: top;\n",
       "    }\n",
       "\n",
       "    .dataframe thead th {\n",
       "        text-align: right;\n",
       "    }\n",
       "</style>\n",
       "<table border=\"1\" class=\"dataframe\">\n",
       "  <thead>\n",
       "    <tr style=\"text-align: right;\">\n",
       "      <th></th>\n",
       "      <th>Course Name</th>\n",
       "      <th>Student Name</th>\n",
       "      <th>Timestamp</th>\n",
       "      <th>Rating</th>\n",
       "      <th>Comment</th>\n",
       "    </tr>\n",
       "  </thead>\n",
       "  <tbody>\n",
       "    <tr>\n",
       "      <th>0</th>\n",
       "      <td>Master Python for Data Analysis and Business A...</td>\n",
       "      <td>Gaurav Mehra</td>\n",
       "      <td>2024-08-21 06:46:55+00:00</td>\n",
       "      <td>4.0</td>\n",
       "      <td>NaN</td>\n",
       "    </tr>\n",
       "    <tr>\n",
       "      <th>1</th>\n",
       "      <td>Master Python for Data Analysis and Business A...</td>\n",
       "      <td>Harigovind S</td>\n",
       "      <td>2024-08-21 04:35:13+00:00</td>\n",
       "      <td>5.0</td>\n",
       "      <td>NaN</td>\n",
       "    </tr>\n",
       "    <tr>\n",
       "      <th>2</th>\n",
       "      <td>Data Literacy and Business Analytics for Busin...</td>\n",
       "      <td>Celine Jayme</td>\n",
       "      <td>2024-08-21 01:42:37+00:00</td>\n",
       "      <td>4.0</td>\n",
       "      <td>NaN</td>\n",
       "    </tr>\n",
       "    <tr>\n",
       "      <th>3</th>\n",
       "      <td>Decision Making with Problem Solving &amp; Critica...</td>\n",
       "      <td>Donovan Smith</td>\n",
       "      <td>2024-08-20 20:02:59+00:00</td>\n",
       "      <td>4.0</td>\n",
       "      <td>NaN</td>\n",
       "    </tr>\n",
       "    <tr>\n",
       "      <th>4</th>\n",
       "      <td>Econometrics and Statistics for Business in R ...</td>\n",
       "      <td>Mark Stent</td>\n",
       "      <td>2024-08-20 16:59:09+00:00</td>\n",
       "      <td>4.0</td>\n",
       "      <td>NaN</td>\n",
       "    </tr>\n",
       "  </tbody>\n",
       "</table>\n",
       "</div>"
      ],
      "text/plain": [
       "                                         Course Name   Student Name  \\\n",
       "0  Master Python for Data Analysis and Business A...   Gaurav Mehra   \n",
       "1  Master Python for Data Analysis and Business A...   Harigovind S   \n",
       "2  Data Literacy and Business Analytics for Busin...   Celine Jayme   \n",
       "3  Decision Making with Problem Solving & Critica...  Donovan Smith   \n",
       "4  Econometrics and Statistics for Business in R ...     Mark Stent   \n",
       "\n",
       "                   Timestamp  Rating Comment  \n",
       "0  2024-08-21 06:46:55+00:00     4.0     NaN  \n",
       "1  2024-08-21 04:35:13+00:00     5.0     NaN  \n",
       "2  2024-08-21 01:42:37+00:00     4.0     NaN  \n",
       "3  2024-08-20 20:02:59+00:00     4.0     NaN  \n",
       "4  2024-08-20 16:59:09+00:00     4.0     NaN  "
      ]
     },
     "execution_count": 3,
     "metadata": {},
     "output_type": "execute_result"
    }
   ],
   "source": [
    "# Display the first five rows of the loaded DataFrame for a preview\n",
    "reviews.head()"
   ]
  },
  {
   "cell_type": "code",
   "execution_count": 4,
   "id": "aa604bfc-c436-4180-9e8e-1fa1ef69aef9",
   "metadata": {},
   "outputs": [],
   "source": [
    "# Create a new 'Review' column by combining course name, rating, and comment\n",
    "reviews['Review'] = 'Course: ' + reviews['Course Name'].astype(str) + ', Rating: ' + reviews['Rating'].astype(str) + ', Comment: ' + reviews['Comment'].astype(str)"
   ]
  },
  {
   "cell_type": "code",
   "execution_count": 5,
   "id": "9951ddc1-6e5d-4606-93cd-e90865639088",
   "metadata": {},
   "outputs": [
    {
     "data": {
      "text/html": [
       "<div>\n",
       "<style scoped>\n",
       "    .dataframe tbody tr th:only-of-type {\n",
       "        vertical-align: middle;\n",
       "    }\n",
       "\n",
       "    .dataframe tbody tr th {\n",
       "        vertical-align: top;\n",
       "    }\n",
       "\n",
       "    .dataframe thead th {\n",
       "        text-align: right;\n",
       "    }\n",
       "</style>\n",
       "<table border=\"1\" class=\"dataframe\">\n",
       "  <thead>\n",
       "    <tr style=\"text-align: right;\">\n",
       "      <th></th>\n",
       "      <th>Student Name</th>\n",
       "      <th>Timestamp</th>\n",
       "      <th>Review</th>\n",
       "    </tr>\n",
       "  </thead>\n",
       "  <tbody>\n",
       "    <tr>\n",
       "      <th>0</th>\n",
       "      <td>Gaurav Mehra</td>\n",
       "      <td>2024-08-21 06:46:55+00:00</td>\n",
       "      <td>Course: Master Python for Data Analysis and Bu...</td>\n",
       "    </tr>\n",
       "    <tr>\n",
       "      <th>1</th>\n",
       "      <td>Harigovind S</td>\n",
       "      <td>2024-08-21 04:35:13+00:00</td>\n",
       "      <td>Course: Master Python for Data Analysis and Bu...</td>\n",
       "    </tr>\n",
       "    <tr>\n",
       "      <th>2</th>\n",
       "      <td>Celine Jayme</td>\n",
       "      <td>2024-08-21 01:42:37+00:00</td>\n",
       "      <td>Course: Data Literacy and Business Analytics f...</td>\n",
       "    </tr>\n",
       "    <tr>\n",
       "      <th>3</th>\n",
       "      <td>Donovan Smith</td>\n",
       "      <td>2024-08-20 20:02:59+00:00</td>\n",
       "      <td>Course: Decision Making with Problem Solving &amp;...</td>\n",
       "    </tr>\n",
       "    <tr>\n",
       "      <th>4</th>\n",
       "      <td>Mark Stent</td>\n",
       "      <td>2024-08-20 16:59:09+00:00</td>\n",
       "      <td>Course: Econometrics and Statistics for Busine...</td>\n",
       "    </tr>\n",
       "  </tbody>\n",
       "</table>\n",
       "</div>"
      ],
      "text/plain": [
       "    Student Name                  Timestamp  \\\n",
       "0   Gaurav Mehra  2024-08-21 06:46:55+00:00   \n",
       "1   Harigovind S  2024-08-21 04:35:13+00:00   \n",
       "2   Celine Jayme  2024-08-21 01:42:37+00:00   \n",
       "3  Donovan Smith  2024-08-20 20:02:59+00:00   \n",
       "4     Mark Stent  2024-08-20 16:59:09+00:00   \n",
       "\n",
       "                                              Review  \n",
       "0  Course: Master Python for Data Analysis and Bu...  \n",
       "1  Course: Master Python for Data Analysis and Bu...  \n",
       "2  Course: Data Literacy and Business Analytics f...  \n",
       "3  Course: Decision Making with Problem Solving &...  \n",
       "4  Course: Econometrics and Statistics for Busine...  "
      ]
     },
     "execution_count": 5,
     "metadata": {},
     "output_type": "execute_result"
    }
   ],
   "source": [
    "# Remove the original columns no longer needed after combining them into 'Review'\n",
    "reviews.drop(columns=['Course Name', 'Rating', 'Comment'], inplace=True)\n",
    "reviews.head()"
   ]
  },
  {
   "cell_type": "code",
   "execution_count": 6,
   "id": "e1514b3a-0f2e-43ce-ad8a-726d72379a66",
   "metadata": {},
   "outputs": [],
   "source": [
    "# Load the transformed DataFrame as documents using the DataFrameLoader\n",
    "loader = DataFrameLoader(reviews, page_content_column='Review')\n",
    "docs = loader.load()"
   ]
  },
  {
   "cell_type": "code",
   "execution_count": 7,
   "id": "5e2828d8-f63a-44a9-9ff7-3f9567f7decb",
   "metadata": {},
   "outputs": [
    {
     "data": {
      "text/plain": [
       "[Document(page_content='Course: Master Python for Data Analysis and Business Analytics 2024, Rating: 4.0, Comment: nan', metadata={'Student Name': 'Gaurav Mehra', 'Timestamp': '2024-08-21 06:46:55+00:00'}),\n",
       " Document(page_content='Course: Master Python for Data Analysis and Business Analytics 2024, Rating: 5.0, Comment: nan', metadata={'Student Name': 'Harigovind S', 'Timestamp': '2024-08-21 04:35:13+00:00'}),\n",
       " Document(page_content='Course: Data Literacy and Business Analytics for Business Leaders, Rating: 4.0, Comment: nan', metadata={'Student Name': 'Celine Jayme', 'Timestamp': '2024-08-21 01:42:37+00:00'})]"
      ]
     },
     "execution_count": 7,
     "metadata": {},
     "output_type": "execute_result"
    }
   ],
   "source": [
    "# Preview the first three documents to ensure proper transformation\n",
    "docs[:3]"
   ]
  },
  {
   "cell_type": "markdown",
   "id": "9e3342af-7c1e-48c8-a862-37d9fe5b6c14",
   "metadata": {},
   "source": [
    "## Embedding Vectors and storing into FAISS"
   ]
  },
  {
   "cell_type": "markdown",
   "id": "8b6f2970-e3cf-46ad-a6e0-32d0ea69336a",
   "metadata": {},
   "source": [
    "Use Hugging Face's sentence Transformers to convert review text into embedding vectors and store in FAISS (Facebook AI Similarity Search) database."
   ]
  },
  {
   "cell_type": "code",
   "execution_count": 9,
   "id": "b5830313-4f0b-4ebe-a07c-7b9e1b19b99a",
   "metadata": {},
   "outputs": [
    {
     "name": "stderr",
     "output_type": "stream",
     "text": [
      "/home/labsuser/.local/lib/python3.8/site-packages/sentence_transformers/cross_encoder/CrossEncoder.py:13: TqdmWarning: IProgress not found. Please update jupyter and ipywidgets. See https://ipywidgets.readthedocs.io/en/stable/user_install.html\n",
      "  from tqdm.autonotebook import tqdm, trange\n"
     ]
    }
   ],
   "source": [
    "# Use sentence transformers model from Hugging Face as embedding\n",
    "# Initialise embedding model from Hugging Face's Sentence Transformers\n",
    "embedding_model = HuggingFaceEmbeddings(model_name=\"sentence-transformers/all-MiniLM-L6-v2\")"
   ]
  },
  {
   "cell_type": "code",
   "execution_count": 10,
   "id": "171629ac-53da-48bb-a690-1ffd27dab7bb",
   "metadata": {},
   "outputs": [],
   "source": [
    "# Store vectors in the FAISS database for efficient similarity searches\n",
    "# Embed the documents into vectors and store them in FAISS database\n",
    "db_faiss = FAISS.from_documents(docs, embedding_model)"
   ]
  },
  {
   "cell_type": "code",
   "execution_count": 11,
   "id": "c7a91b1e-df60-4aaf-93c7-19e033e3eda5",
   "metadata": {},
   "outputs": [
    {
     "name": "stdout",
     "output_type": "stream",
     "text": [
      "Number of documents in FAISS: 861\n"
     ]
    }
   ],
   "source": [
    "# Access the FAISS index and check the number of vectors stored\n",
    "print(f\"Number of documents in FAISS: {db_faiss.index.ntotal}\")"
   ]
  },
  {
   "cell_type": "markdown",
   "id": "9a9d0c48-b212-4c29-aa46-633362d34f22",
   "metadata": {},
   "source": [
    "## Retrieve Relevant documents using FAISS and Sentence Transformers Embeddings"
   ]
  },
  {
   "cell_type": "code",
   "execution_count": 13,
   "id": "fd91e12b-8c5a-4bc9-900c-d4e8c5e881c4",
   "metadata": {},
   "outputs": [],
   "source": [
    "# Function to retrieve relevant documents from FAISS based on a query\n",
    "def retrieve_docs(query, k):\n",
    "    # Perform a similarity search on the FAISS index for the given query and return k documents\n",
    "    docs_faiss = db_faiss.similarity_search(query, k=k)\n",
    "    return docs_faiss"
   ]
  },
  {
   "cell_type": "code",
   "execution_count": 14,
   "id": "ef03abef-f937-4d69-b640-ccd47202ade0",
   "metadata": {},
   "outputs": [],
   "source": [
    "# Define the query for retrieving relevant feedback on time series courses\n",
    "query = \"What feedback have we received on the time series courses, and what common themes or suggestions for improvement are there?\""
   ]
  },
  {
   "cell_type": "code",
   "execution_count": 15,
   "id": "1f627e79-76c4-4f3e-8faf-cc48effe086e",
   "metadata": {},
   "outputs": [],
   "source": [
    "# Call the retrieve docs function and specify the number of documents to retrieve\n",
    "context = retrieve_docs(query, k = 5)"
   ]
  },
  {
   "cell_type": "code",
   "execution_count": 16,
   "id": "e5d2f436-93bb-4aba-995e-c9a137041804",
   "metadata": {},
   "outputs": [
    {
     "name": "stdout",
     "output_type": "stream",
     "text": [
      "Course: Master Time Series Analysis and Forecasting with Python 2024, Rating: 5.0, Comment: A sensational course: the materials, the level of expertise of the trainer, the Q&A support.\n",
      "Course: Master Time Series Analysis and Forecasting with Python 2024, Rating: 4.0, Comment: It was good till at present With DataSet provided and course Outcomes and Explanantions\n",
      "Course: Master Time Series Analysis and Forecasting with Python 2024, Rating: 4.0, Comment: The course covers topics that I wanted to learn about. Will know more once I start learning from the course.\n",
      "Course: Forecasting Models & Time Series Analysis for Business in R, Rating: 5.0, Comment: The course is clear, concise and full of incredibly helpful information. The guidance is thorough and there are no missing or ambiguous parts which allows you to follow the whole process easily. Definitely recommend!\n",
      "Course: Master Time Series Analysis and Forecasting with Python 2024, Rating: 5.0, Comment: Really informative and well structure course.\n"
     ]
    }
   ],
   "source": [
    "# Display the retrieved documents to verify the results\n",
    "for doc in context:\n",
    "    print(doc.page_content)"
   ]
  },
  {
   "cell_type": "markdown",
   "id": "a3c49fa3-7b73-49f3-8452-8f45c20c31c3",
   "metadata": {},
   "source": [
    "## Generate responses using OpenAI API based on User Query and context"
   ]
  },
  {
   "cell_type": "code",
   "execution_count": 17,
   "id": "f31b427b-6c13-441f-abb2-fae42d95092d",
   "metadata": {},
   "outputs": [],
   "source": [
    "# System message that defines the assistant's role as a manager reviewing feedback\n",
    "system_message = \"\"\"\n",
    "You are the manager of an online data analysis education platform.\n",
    "Your primary responsibility is to carefully review feedback from users, including ratings and comments, to gain insights into their experiences.\n",
    "\"\"\""
   ]
  },
  {
   "cell_type": "code",
   "execution_count": 18,
   "id": "ec2c0397-acfc-4812-b6be-fca049a51400",
   "metadata": {},
   "outputs": [],
   "source": [
    "# Function to generate response based on query and context\n",
    "def generate_response(query, context):\n",
    "    # Create the messages for the API call\n",
    "    messages = [\n",
    "        {\"role\": \"system\", \"content\": system_message},\n",
    "        {\"role\": \"user\", \"content\": f\"Quest: {query} \\nReviews: {context}\"}\n",
    "    ]\n",
    "    \n",
    "    # Call the OpenAI API and generate a response\n",
    "    client = OpenAI()\n",
    "    response = client.chat.completions.create(\n",
    "        model = \"gpt-4o-mini\",\n",
    "        messages=messages,\n",
    "        max_tokens=600,\n",
    "        temperature=0.7\n",
    "    )\n",
    "    \n",
    "    # Extract and return the assistant's message\n",
    "    assistant_message = response.choices[0].message.content\n",
    "    return assistant_message"
   ]
  },
  {
   "cell_type": "code",
   "execution_count": 19,
   "id": "6a57aaf9-205a-4224-8ffc-e3b64f048df8",
   "metadata": {},
   "outputs": [],
   "source": [
    "# Retrieve documents as context based on the query\n",
    "# Get 50 documents\n",
    "query = \"What feedback have we received on the time series courses, and what common themes or suggestions for improvement are there?\"\n",
    "\n",
    "context = retrieve_docs(query, k=50)"
   ]
  },
  {
   "cell_type": "code",
   "execution_count": 21,
   "id": "1bfed43b-dfdb-45db-899d-c2960af2f0ec",
   "metadata": {},
   "outputs": [
    {
     "name": "stderr",
     "output_type": "stream",
     "text": [
      "huggingface/tokenizers: The current process just got forked, after parallelism has already been used. Disabling parallelism to avoid deadlocks...\n",
      "To disable this warning, you can either:\n",
      "\t- Avoid using `tokenizers` before the fork if possible\n",
      "\t- Explicitly set the environment variable TOKENIZERS_PARALLELISM=(true | false)\n"
     ]
    },
    {
     "data": {
      "text/markdown": [
       "The feedback for the time series courses, particularly the \"Master Time Series Analysis and Forecasting with Python 2024\" and \"Forecasting Models & Time Series Analysis for Business in R,\" reveals several common themes and suggestions for improvement.\n",
       "\n",
       "### Positive Feedback Themes:\n",
       "1. **Quality of Content**: Many users praised the courses for being clear, concise, and full of helpful information. Comments like \"sensational course,\" \"really informative,\" and \"well-structured\" indicate that the content is well-received.\n",
       "   \n",
       "2. **Expertise of Instructors**: Reviewers frequently noted the expertise and teaching ability of the instructors, such as Diogo in the R course, which contributed to a positive learning experience.\n",
       "\n",
       "3. **Practical Applications**: Several users appreciated the practical nature of the courses, stating that the courses allowed them to apply their knowledge to real-life problems.\n",
       "\n",
       "4. **Support and Resources**: The Q&A support and additional materials provided were highlighted as beneficial, enhancing the overall learning experience.\n",
       "\n",
       "### Areas for Improvement:\n",
       "1. **Incomplete Feedback**: A significant number of reviews for the \"Master Time Series Analysis and Forecasting with Python 2024\" course included \"nan\" comments, indicating a lack of detailed feedback. Encouraging users to provide more specific comments could help in understanding their experiences better.\n",
       "\n",
       "2. **Diverse Learning Outcomes**: While many users rated the course highly, some ratings were lower (such as a 1.5 rating), suggesting that there may be gaps in meeting the expectations of all learners. Gathering more detailed feedback from lower-rated reviews could help identify specific areas of dissatisfaction.\n",
       "\n",
       "3. **Engagement with Material**: Some comments expressed a need for more engagement or interaction within the course. Suggestions could include incorporating more interactive elements or practical exercises to keep learners engaged.\n",
       "\n",
       "4. **Course Progression**: A few reviews mentioned that while the course content was good, they would know more about its effectiveness once they fully engaged with the material. This indicates a potential need for clearer course outcomes or milestones to guide learners through their journey.\n",
       "\n",
       "### Conclusion:\n",
       "Overall, the time series courses appear to be well-regarded, especially for their quality content and knowledgeable instructors. To enhance user satisfaction further, efforts should be made to encourage detailed feedback, address any gaps identified in lower ratings, and consider suggestions for increasing interactivity and learner engagement."
      ],
      "text/plain": [
       "<IPython.core.display.Markdown object>"
      ]
     },
     "metadata": {},
     "output_type": "display_data"
    }
   ],
   "source": [
    "# Generate and display the response\n",
    "answer = generate_response(query, context)\n",
    "display(Markdown(answer))"
   ]
  },
  {
   "cell_type": "code",
   "execution_count": null,
   "id": "35ed28b6-3789-4c08-ad16-0f74d90d25f2",
   "metadata": {},
   "outputs": [],
   "source": []
  }
 ],
 "metadata": {
  "kernelspec": {
   "display_name": "Python 3 (ipykernel)",
   "language": "python",
   "name": "python3"
  },
  "language_info": {
   "codemirror_mode": {
    "name": "ipython",
    "version": 3
   },
   "file_extension": ".py",
   "mimetype": "text/x-python",
   "name": "python",
   "nbconvert_exporter": "python",
   "pygments_lexer": "ipython3",
   "version": "3.8.10"
  }
 },
 "nbformat": 4,
 "nbformat_minor": 5
}

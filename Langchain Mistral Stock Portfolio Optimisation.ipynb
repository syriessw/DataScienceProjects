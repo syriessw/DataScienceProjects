{
 "cells": [
  {
   "cell_type": "markdown",
   "id": "f83bfb4a",
   "metadata": {},
   "source": [
    "# Utilising LangChain and OpenAI GPT-4 to Optimise Stock Portfolios"
   ]
  },
  {
   "cell_type": "markdown",
   "id": "1d781536",
   "metadata": {},
   "source": [
    "__Steps__\n",
    "- Fetch historical data\n",
    "- Analyze to extract key statistics\n",
    "- Use GPT-4 to generate insightful summaries of stock data"
   ]
  },
  {
   "cell_type": "markdown",
   "id": "0e56c4f9",
   "metadata": {},
   "source": [
    "## Ask LLM to download Stock data using yfinance"
   ]
  },
  {
   "cell_type": "markdown",
   "id": "3f94c904",
   "metadata": {},
   "source": [
    "In this task, use LangChain wrapper around Mistral to interact with an LLM to download stock data for the Magnificent 7 stocks, Bitcoin and S&P500 using the yfinance library. Set the LLM temperature to 0 and display the response in Markdown for better visualisation.\n",
    "\n",
    "Then, download the data for the years 2022 and 2023.\n",
    "\n",
    "Use a prompt to query the data."
   ]
  },
  {
   "cell_type": "code",
   "execution_count": 15,
   "id": "3a78672d",
   "metadata": {},
   "outputs": [
    {
     "name": "stdout",
     "output_type": "stream",
     "text": [
      "Collecting yfinance\n",
      "  Downloading yfinance-0.2.49-py2.py3-none-any.whl.metadata (13 kB)\n",
      "Requirement already satisfied: pandas>=1.3.0 in h:\\anaconda3\\lib\\site-packages (from yfinance) (2.2.2)\n",
      "Requirement already satisfied: numpy>=1.16.5 in h:\\anaconda3\\lib\\site-packages (from yfinance) (1.26.4)\n",
      "Requirement already satisfied: requests>=2.31 in h:\\anaconda3\\lib\\site-packages (from yfinance) (2.32.3)\n",
      "Collecting multitasking>=0.0.7 (from yfinance)\n",
      "  Using cached multitasking-0.0.11-py3-none-any.whl.metadata (5.5 kB)\n",
      "Requirement already satisfied: lxml>=4.9.1 in h:\\anaconda3\\lib\\site-packages (from yfinance) (5.2.1)\n",
      "Requirement already satisfied: platformdirs>=2.0.0 in h:\\anaconda3\\lib\\site-packages (from yfinance) (3.10.0)\n",
      "Requirement already satisfied: pytz>=2022.5 in h:\\anaconda3\\lib\\site-packages (from yfinance) (2024.1)\n",
      "Requirement already satisfied: frozendict>=2.3.4 in h:\\anaconda3\\lib\\site-packages (from yfinance) (2.4.2)\n",
      "Collecting peewee>=3.16.2 (from yfinance)\n",
      "  Downloading peewee-3.17.8.tar.gz (948 kB)\n",
      "     ---------------------------------------- 0.0/948.2 kB ? eta -:--:--\n",
      "     ------------------------------------- 948.2/948.2 kB 42.9 MB/s eta 0:00:00\n",
      "  Installing build dependencies: started\n",
      "  Installing build dependencies: finished with status 'done'\n",
      "  Getting requirements to build wheel: started\n",
      "  Getting requirements to build wheel: finished with status 'done'\n",
      "  Preparing metadata (pyproject.toml): started\n",
      "  Preparing metadata (pyproject.toml): finished with status 'done'\n",
      "Requirement already satisfied: beautifulsoup4>=4.11.1 in h:\\anaconda3\\lib\\site-packages (from yfinance) (4.12.3)\n",
      "Collecting html5lib>=1.1 (from yfinance)\n",
      "  Using cached html5lib-1.1-py2.py3-none-any.whl.metadata (16 kB)\n",
      "Requirement already satisfied: soupsieve>1.2 in h:\\anaconda3\\lib\\site-packages (from beautifulsoup4>=4.11.1->yfinance) (2.5)\n",
      "Requirement already satisfied: six>=1.9 in h:\\anaconda3\\lib\\site-packages (from html5lib>=1.1->yfinance) (1.16.0)\n",
      "Requirement already satisfied: webencodings in h:\\anaconda3\\lib\\site-packages (from html5lib>=1.1->yfinance) (0.5.1)\n",
      "Requirement already satisfied: python-dateutil>=2.8.2 in h:\\anaconda3\\lib\\site-packages (from pandas>=1.3.0->yfinance) (2.9.0.post0)\n",
      "Requirement already satisfied: tzdata>=2022.7 in h:\\anaconda3\\lib\\site-packages (from pandas>=1.3.0->yfinance) (2023.3)\n",
      "Requirement already satisfied: charset-normalizer<4,>=2 in h:\\anaconda3\\lib\\site-packages (from requests>=2.31->yfinance) (2.0.4)\n",
      "Requirement already satisfied: idna<4,>=2.5 in h:\\anaconda3\\lib\\site-packages (from requests>=2.31->yfinance) (3.7)\n",
      "Requirement already satisfied: urllib3<3,>=1.21.1 in h:\\anaconda3\\lib\\site-packages (from requests>=2.31->yfinance) (2.2.2)\n",
      "Requirement already satisfied: certifi>=2017.4.17 in h:\\anaconda3\\lib\\site-packages (from requests>=2.31->yfinance) (2024.8.30)\n",
      "Downloading yfinance-0.2.49-py2.py3-none-any.whl (101 kB)\n",
      "Using cached html5lib-1.1-py2.py3-none-any.whl (112 kB)\n",
      "Using cached multitasking-0.0.11-py3-none-any.whl (8.5 kB)\n",
      "Building wheels for collected packages: peewee\n",
      "  Building wheel for peewee (pyproject.toml): started\n",
      "  Building wheel for peewee (pyproject.toml): finished with status 'done'\n",
      "  Created wheel for peewee: filename=peewee-3.17.8-py3-none-any.whl size=139014 sha256=e9f5796c97f5e6f212d6308c9aef11f67b124171ba202fe0182b860ec3bb1c01\n",
      "  Stored in directory: c:\\users\\ning\\appdata\\local\\pip\\cache\\wheels\\75\\79\\e5\\8838db0594cc6c587142fd2563356392ade6255c5930411069\n",
      "Successfully built peewee\n",
      "Installing collected packages: peewee, multitasking, html5lib, yfinance\n",
      "Successfully installed html5lib-1.1 multitasking-0.0.11 peewee-3.17.8 yfinance-0.2.49\n"
     ]
    }
   ],
   "source": [
    "!pip install yfinance"
   ]
  },
  {
   "cell_type": "code",
   "execution_count": 3,
   "id": "0e048efe",
   "metadata": {},
   "outputs": [
    {
     "name": "stdout",
     "output_type": "stream",
     "text": [
      "Requirement already satisfied: langchain-ollama in h:\\anaconda3\\lib\\site-packages (0.2.0)\n",
      "Requirement already satisfied: langchain-core<0.4.0,>=0.3.0 in h:\\anaconda3\\lib\\site-packages (from langchain-ollama) (0.3.12)\n",
      "Requirement already satisfied: ollama<1,>=0.3.0 in h:\\anaconda3\\lib\\site-packages (from langchain-ollama) (0.3.3)\n",
      "Requirement already satisfied: PyYAML>=5.3 in h:\\anaconda3\\lib\\site-packages (from langchain-core<0.4.0,>=0.3.0->langchain-ollama) (6.0.1)\n",
      "Requirement already satisfied: jsonpatch<2.0,>=1.33 in h:\\anaconda3\\lib\\site-packages (from langchain-core<0.4.0,>=0.3.0->langchain-ollama) (1.33)\n",
      "Requirement already satisfied: langsmith<0.2.0,>=0.1.125 in h:\\anaconda3\\lib\\site-packages (from langchain-core<0.4.0,>=0.3.0->langchain-ollama) (0.1.137)\n",
      "Requirement already satisfied: packaging<25,>=23.2 in h:\\anaconda3\\lib\\site-packages (from langchain-core<0.4.0,>=0.3.0->langchain-ollama) (24.1)\n",
      "Requirement already satisfied: pydantic<3.0.0,>=2.5.2 in h:\\anaconda3\\lib\\site-packages (from langchain-core<0.4.0,>=0.3.0->langchain-ollama) (2.8.2)\n",
      "Requirement already satisfied: tenacity!=8.4.0,<10.0.0,>=8.1.0 in h:\\anaconda3\\lib\\site-packages (from langchain-core<0.4.0,>=0.3.0->langchain-ollama) (8.2.3)\n",
      "Requirement already satisfied: typing-extensions>=4.7 in h:\\anaconda3\\lib\\site-packages (from langchain-core<0.4.0,>=0.3.0->langchain-ollama) (4.11.0)\n",
      "Requirement already satisfied: httpx<0.28.0,>=0.27.0 in h:\\anaconda3\\lib\\site-packages (from ollama<1,>=0.3.0->langchain-ollama) (0.27.0)\n",
      "Requirement already satisfied: anyio in h:\\anaconda3\\lib\\site-packages (from httpx<0.28.0,>=0.27.0->ollama<1,>=0.3.0->langchain-ollama) (4.2.0)\n",
      "Requirement already satisfied: certifi in h:\\anaconda3\\lib\\site-packages (from httpx<0.28.0,>=0.27.0->ollama<1,>=0.3.0->langchain-ollama) (2024.8.30)\n",
      "Requirement already satisfied: httpcore==1.* in h:\\anaconda3\\lib\\site-packages (from httpx<0.28.0,>=0.27.0->ollama<1,>=0.3.0->langchain-ollama) (1.0.2)\n",
      "Requirement already satisfied: idna in h:\\anaconda3\\lib\\site-packages (from httpx<0.28.0,>=0.27.0->ollama<1,>=0.3.0->langchain-ollama) (3.7)\n",
      "Requirement already satisfied: sniffio in h:\\anaconda3\\lib\\site-packages (from httpx<0.28.0,>=0.27.0->ollama<1,>=0.3.0->langchain-ollama) (1.3.0)\n",
      "Requirement already satisfied: h11<0.15,>=0.13 in h:\\anaconda3\\lib\\site-packages (from httpcore==1.*->httpx<0.28.0,>=0.27.0->ollama<1,>=0.3.0->langchain-ollama) (0.14.0)\n",
      "Requirement already satisfied: jsonpointer>=1.9 in h:\\anaconda3\\lib\\site-packages (from jsonpatch<2.0,>=1.33->langchain-core<0.4.0,>=0.3.0->langchain-ollama) (2.1)\n",
      "Requirement already satisfied: orjson<4.0.0,>=3.9.14 in h:\\anaconda3\\lib\\site-packages (from langsmith<0.2.0,>=0.1.125->langchain-core<0.4.0,>=0.3.0->langchain-ollama) (3.10.10)\n",
      "Requirement already satisfied: requests<3,>=2 in h:\\anaconda3\\lib\\site-packages (from langsmith<0.2.0,>=0.1.125->langchain-core<0.4.0,>=0.3.0->langchain-ollama) (2.32.3)\n",
      "Requirement already satisfied: requests-toolbelt<2.0.0,>=1.0.0 in h:\\anaconda3\\lib\\site-packages (from langsmith<0.2.0,>=0.1.125->langchain-core<0.4.0,>=0.3.0->langchain-ollama) (1.0.0)\n",
      "Requirement already satisfied: annotated-types>=0.4.0 in h:\\anaconda3\\lib\\site-packages (from pydantic<3.0.0,>=2.5.2->langchain-core<0.4.0,>=0.3.0->langchain-ollama) (0.6.0)\n",
      "Requirement already satisfied: pydantic-core==2.20.1 in h:\\anaconda3\\lib\\site-packages (from pydantic<3.0.0,>=2.5.2->langchain-core<0.4.0,>=0.3.0->langchain-ollama) (2.20.1)\n",
      "Requirement already satisfied: charset-normalizer<4,>=2 in h:\\anaconda3\\lib\\site-packages (from requests<3,>=2->langsmith<0.2.0,>=0.1.125->langchain-core<0.4.0,>=0.3.0->langchain-ollama) (2.0.4)\n",
      "Requirement already satisfied: urllib3<3,>=1.21.1 in h:\\anaconda3\\lib\\site-packages (from requests<3,>=2->langsmith<0.2.0,>=0.1.125->langchain-core<0.4.0,>=0.3.0->langchain-ollama) (2.2.2)\n",
      "Requirement already satisfied: exceptiongroup>=1.0.2 in h:\\anaconda3\\lib\\site-packages (from anyio->httpx<0.28.0,>=0.27.0->ollama<1,>=0.3.0->langchain-ollama) (1.2.0)\n"
     ]
    }
   ],
   "source": [
    "!pip install -U langchain-ollama"
   ]
  },
  {
   "cell_type": "code",
   "execution_count": 7,
   "id": "a5b59a76",
   "metadata": {},
   "outputs": [],
   "source": [
    "from langchain_ollama import OllamaLLM\n",
    "\n",
    "model = OllamaLLM(model=\"mistral\")"
   ]
  },
  {
   "cell_type": "code",
   "execution_count": 57,
   "id": "b8eeedea",
   "metadata": {},
   "outputs": [],
   "source": [
    "# Create the prompt to ask LLM how to download stock data\n",
    "prompt = \"\"\"\n",
    "Can you provide a python code snippet using the yfinance v0.2.49 library to download\n",
    "historical stock data for the following assets for the year 2022 and 2023:\n",
    "\n",
    "- Magnificent 7 stocks: Apple (AAPL), Microsoft (MSFT), Amazon (AMZN), Alphabet\n",
    "(GOOGL), Tesla (TSLA), Nvidia (NVDA), Meta (META)\n",
    "- Bitcoin (BTC-USD)\n",
    "- S&P 500 index (SPY)\n",
    "\"\"\""
   ]
  },
  {
   "cell_type": "code",
   "execution_count": 58,
   "id": "b9ce8fc3",
   "metadata": {},
   "outputs": [],
   "source": [
    "# Use the invoke method to get the response from the LLM\n",
    "response = model.invoke(prompt)"
   ]
  },
  {
   "cell_type": "code",
   "execution_count": 59,
   "id": "e5696417",
   "metadata": {},
   "outputs": [
    {
     "data": {
      "text/markdown": [
       " To download historical data for the mentioned assets using yfinance library, firstly you need to install it if you haven't done so. You can do this by running:\n",
       "\n",
       "```bash\n",
       "pip install yfinance\n",
       "```\n",
       "\n",
       "After that, here is a Python code snippet:\n",
       "\n",
       "```python\n",
       "import yfinance as yf\n",
       "\n",
       "def download_data(symbols, start_date, end_date):\n",
       "    for symbol in symbols:\n",
       "        try:\n",
       "            data = yf.download(symbol, start=start_date, end=end_date)\n",
       "            print(f\"Downloaded data for {symbol} from {start_date} to {end_date}\")\n",
       "        except Exception as e:\n",
       "            print(f\"Error while downloading data for {symbol}: {e}\")\n",
       "\n",
       "# Define the symbols and date range (YYYY-MM-DD format)\n",
       "symbols = [\"AAPL\", \"MSFT\", \"AMZN\", \"GOOGL\", \"TSLA\", \"NVDA\", \"META\", \"BTC-USD\", \"SPY\"]\n",
       "start_date = '2022-01-01'\n",
       "end_date = '2023-12-31'\n",
       "\n",
       "# Call the function to download data for each symbol in the list\n",
       "download_data(symbols, start_date, end_date)\n",
       "```\n",
       "\n",
       "Keep in mind that this script will download daily closing prices. If you want different types of data (e.g., high, low, volume), you can modify the `yf.download()` function accordingly by specifying additional parameters like `interval='1d'`, `group_by='day', and include_total=True`.\n",
       "\n",
       "For more information on yfinance functions, refer to its official documentation: https://pypi.org/project/yfinance/"
      ],
      "text/plain": [
       "<IPython.core.display.Markdown object>"
      ]
     },
     "metadata": {},
     "output_type": "display_data"
    }
   ],
   "source": [
    "# Import the display function from iPython\n",
    "from IPython.display import display, Markdown\n",
    "\n",
    "# Print the response to review the provided code snippet\n",
    "display(Markdown(response))"
   ]
  },
  {
   "cell_type": "code",
   "execution_count": 61,
   "id": "30906a40",
   "metadata": {},
   "outputs": [
    {
     "name": "stderr",
     "output_type": "stream",
     "text": [
      "[*********************100%***********************]  1 of 1 completed\n",
      "[*********************100%***********************]  1 of 1 completed\n",
      "[*********************100%***********************]  1 of 1 completed\n",
      "[*********************100%***********************]  1 of 1 completed\n",
      "[*********************100%***********************]  1 of 1 completed\n",
      "[*********************100%***********************]  1 of 1 completed\n",
      "[*********************100%***********************]  1 of 1 completed\n",
      "[*********************100%***********************]  1 of 1 completed\n",
      "[*********************100%***********************]  1 of 1 completed"
     ]
    },
    {
     "name": "stdout",
     "output_type": "stream",
     "text": [
      "Downloaded data for AAPL from 2022-01-01 to 2023-12-31\n",
      "Price                       Adj Close       Close        High         Low  \\\n",
      "Ticker                           AAPL        AAPL        AAPL        AAPL   \n",
      "Date                                                                        \n",
      "2022-01-03 00:00:00+00:00  179.076569  182.009995  182.880005  177.710007   \n",
      "2022-01-04 00:00:00+00:00  176.803848  179.699997  182.940002  179.119995   \n",
      "2022-01-05 00:00:00+00:00  172.100845  174.919998  180.169998  174.639999   \n",
      "2022-01-06 00:00:00+00:00  169.227936  172.000000  175.300003  171.639999   \n",
      "2022-01-07 00:00:00+00:00  169.395187  172.169998  174.139999  171.029999   \n",
      "\n",
      "Price                            Open     Volume  \n",
      "Ticker                           AAPL       AAPL  \n",
      "Date                                              \n",
      "2022-01-03 00:00:00+00:00  177.830002  104487900  \n",
      "2022-01-04 00:00:00+00:00  182.630005   99310400  \n",
      "2022-01-05 00:00:00+00:00  179.610001   94537600  \n",
      "2022-01-06 00:00:00+00:00  172.699997   96904000  \n",
      "2022-01-07 00:00:00+00:00  172.889999   86709100  \n",
      "Downloaded data for MSFT from 2022-01-01 to 2023-12-31\n",
      "Price                       Adj Close       Close        High         Low  \\\n",
      "Ticker                           MSFT        MSFT        MSFT        MSFT   \n",
      "Date                                                                        \n",
      "2022-01-03 00:00:00+00:00  326.940796  334.750000  338.000000  329.779999   \n",
      "2022-01-04 00:00:00+00:00  321.334747  329.010010  335.200012  326.119995   \n",
      "2022-01-05 00:00:00+00:00  308.999420  316.380005  326.070007  315.980011   \n",
      "2022-01-06 00:00:00+00:00  306.557739  313.880005  318.700012  311.489990   \n",
      "2022-01-07 00:00:00+00:00  306.714020  314.040009  316.500000  310.089996   \n",
      "\n",
      "Price                            Open    Volume  \n",
      "Ticker                           MSFT      MSFT  \n",
      "Date                                             \n",
      "2022-01-03 00:00:00+00:00  335.350006  28865100  \n",
      "2022-01-04 00:00:00+00:00  334.829987  32674300  \n",
      "2022-01-05 00:00:00+00:00  325.859985  40054300  \n",
      "2022-01-06 00:00:00+00:00  313.149994  39646100  \n",
      "2022-01-07 00:00:00+00:00  314.149994  32720000  \n",
      "Downloaded data for AMZN from 2022-01-01 to 2023-12-31\n",
      "Price                       Adj Close       Close        High         Low  \\\n",
      "Ticker                           AMZN        AMZN        AMZN        AMZN   \n",
      "Date                                                                        \n",
      "2022-01-03 00:00:00+00:00  170.404495  170.404495  170.703506  166.160507   \n",
      "2022-01-04 00:00:00+00:00  167.522003  167.522003  171.399994  166.349503   \n",
      "2022-01-05 00:00:00+00:00  164.356995  164.356995  167.126495  164.356995   \n",
      "2022-01-06 00:00:00+00:00  163.253998  163.253998  164.800003  161.936996   \n",
      "2022-01-07 00:00:00+00:00  162.554001  162.554001  165.243500  162.031006   \n",
      "\n",
      "Price                            Open    Volume  \n",
      "Ticker                           AMZN      AMZN  \n",
      "Date                                             \n",
      "2022-01-03 00:00:00+00:00  167.550003  63520000  \n",
      "2022-01-04 00:00:00+00:00  170.438004  70726000  \n",
      "2022-01-05 00:00:00+00:00  166.882996  64302000  \n",
      "2022-01-06 00:00:00+00:00  163.450500  51958000  \n",
      "2022-01-07 00:00:00+00:00  163.839005  46606000  \n",
      "Downloaded data for GOOGL from 2022-01-01 to 2023-12-31\n",
      "Price                       Adj Close       Close        High         Low  \\\n",
      "Ticker                          GOOGL       GOOGL       GOOGL       GOOGL   \n",
      "Date                                                                        \n",
      "2022-01-03 00:00:00+00:00  144.633362  144.991501  145.850998  143.712997   \n",
      "2022-01-04 00:00:00+00:00  144.042831  144.399506  146.485001  143.716507   \n",
      "2022-01-05 00:00:00+00:00  137.434677  137.774994  144.499496  137.688004   \n",
      "2022-01-06 00:00:00+00:00  137.407257  137.747498  139.940002  136.558502   \n",
      "2022-01-07 00:00:00+00:00  136.678558  137.016998  138.448502  135.766495   \n",
      "\n",
      "Price                            Open    Volume  \n",
      "Ticker                          GOOGL     GOOGL  \n",
      "Date                                             \n",
      "2022-01-03 00:00:00+00:00  145.054993  28646000  \n",
      "2022-01-04 00:00:00+00:00  145.395996  28400000  \n",
      "2022-01-05 00:00:00+00:00  144.419998  54618000  \n",
      "2022-01-06 00:00:00+00:00  136.998505  37348000  \n",
      "2022-01-07 00:00:00+00:00  138.145493  29760000  \n",
      "Downloaded data for TSLA from 2022-01-01 to 2023-12-31\n",
      "Price                       Adj Close       Close        High         Low  \\\n",
      "Ticker                           TSLA        TSLA        TSLA        TSLA   \n",
      "Date                                                                        \n",
      "2022-01-03 00:00:00+00:00  399.926666  399.926666  400.356659  378.679993   \n",
      "2022-01-04 00:00:00+00:00  383.196655  383.196655  402.666656  374.350006   \n",
      "2022-01-05 00:00:00+00:00  362.706665  362.706665  390.113342  360.336670   \n",
      "2022-01-06 00:00:00+00:00  354.899994  354.899994  362.666656  340.166656   \n",
      "2022-01-07 00:00:00+00:00  342.320007  342.320007  360.309998  336.666656   \n",
      "\n",
      "Price                            Open     Volume  \n",
      "Ticker                           TSLA       TSLA  \n",
      "Date                                              \n",
      "2022-01-03 00:00:00+00:00  382.583344  103931400  \n",
      "2022-01-04 00:00:00+00:00  396.516663  100248300  \n",
      "2022-01-05 00:00:00+00:00  382.216675   80119800  \n",
      "2022-01-06 00:00:00+00:00  359.000000   90336600  \n",
      "2022-01-07 00:00:00+00:00  360.123322   84164700  \n",
      "Downloaded data for NVDA from 2022-01-01 to 2023-12-31\n",
      "Price                      Adj Close      Close       High        Low  \\\n",
      "Ticker                          NVDA       NVDA       NVDA       NVDA   \n",
      "Date                                                                    \n",
      "2022-01-03 00:00:00+00:00  30.073059  30.121000  30.711000  29.785000   \n",
      "2022-01-04 00:00:00+00:00  29.243387  29.290001  30.468000  28.349001   \n",
      "2022-01-05 00:00:00+00:00  27.560064  27.604000  29.416000  27.533001   \n",
      "2022-01-06 00:00:00+00:00  28.133152  28.177999  28.438000  27.065001   \n",
      "2022-01-07 00:00:00+00:00  27.203634  27.247000  28.422001  27.056999   \n",
      "\n",
      "Price                           Open     Volume  \n",
      "Ticker                          NVDA       NVDA  \n",
      "Date                                             \n",
      "2022-01-03 00:00:00+00:00  29.815001  391547000  \n",
      "2022-01-04 00:00:00+00:00  30.277000  527154000  \n",
      "2022-01-05 00:00:00+00:00  28.948999  498064000  \n",
      "2022-01-06 00:00:00+00:00  27.639999  454186000  \n",
      "2022-01-07 00:00:00+00:00  28.141001  409939000  \n",
      "Downloaded data for META from 2022-01-01 to 2023-12-31\n",
      "Price                       Adj Close       Close        High         Low  \\\n",
      "Ticker                           META        META        META        META   \n",
      "Date                                                                        \n",
      "2022-01-03 00:00:00+00:00  337.523743  338.540009  341.079987  337.190002   \n",
      "2022-01-04 00:00:00+00:00  335.519806  336.529999  343.089996  331.869995   \n",
      "2022-01-05 00:00:00+00:00  323.196899  324.170013  335.760010  323.839996   \n",
      "2022-01-06 00:00:00+00:00  331.462006  332.459991  339.170013  322.720001   \n",
      "2022-01-07 00:00:00+00:00  330.794037  331.790009  337.000000  328.880005   \n",
      "\n",
      "Price                            Open    Volume  \n",
      "Ticker                           META      META  \n",
      "Date                                             \n",
      "2022-01-03 00:00:00+00:00  338.299988  14537900  \n",
      "2022-01-04 00:00:00+00:00  339.950012  15998000  \n",
      "2022-01-05 00:00:00+00:00  333.019989  20564500  \n",
      "2022-01-06 00:00:00+00:00  322.820007  27962800  \n",
      "2022-01-07 00:00:00+00:00  332.739990  14722000  \n",
      "Downloaded data for BTC-USD from 2022-01-01 to 2023-12-31\n",
      "Price                         Adj Close         Close          High  \\\n",
      "Ticker                          BTC-USD       BTC-USD       BTC-USD   \n",
      "Date                                                                  \n",
      "2022-01-01 00:00:00+00:00  47686.812500  47686.812500  47827.312500   \n",
      "2022-01-02 00:00:00+00:00  47345.218750  47345.218750  47881.406250   \n",
      "2022-01-03 00:00:00+00:00  46458.117188  46458.117188  47510.726562   \n",
      "2022-01-04 00:00:00+00:00  45897.574219  45897.574219  47406.546875   \n",
      "2022-01-05 00:00:00+00:00  43569.003906  43569.003906  46929.046875   \n",
      "\n",
      "Price                               Low          Open       Volume  \n",
      "Ticker                          BTC-USD       BTC-USD      BTC-USD  \n",
      "Date                                                                \n",
      "2022-01-01 00:00:00+00:00  46288.484375  46311.746094  24582667004  \n",
      "2022-01-02 00:00:00+00:00  46856.937500  47680.925781  27951569547  \n",
      "2022-01-03 00:00:00+00:00  45835.964844  47343.542969  33071628362  \n",
      "2022-01-04 00:00:00+00:00  45752.464844  46458.851562  42494677905  \n",
      "2022-01-05 00:00:00+00:00  42798.222656  45899.359375  36851084859  \n",
      "Downloaded data for SPY from 2022-01-01 to 2023-12-31\n",
      "Price                       Adj Close       Close        High         Low  \\\n",
      "Ticker                            SPY         SPY         SPY         SPY   \n",
      "Date                                                                        \n",
      "2022-01-03 00:00:00+00:00  458.720276  477.709991  477.850006  473.850006   \n",
      "2022-01-04 00:00:00+00:00  458.566620  477.549988  479.980011  475.579987   \n",
      "2022-01-05 00:00:00+00:00  449.761200  468.380005  477.980011  468.279999   \n",
      "2022-01-06 00:00:00+00:00  449.338715  467.940002  470.820007  465.429993   \n",
      "2022-01-07 00:00:00+00:00  447.562195  466.089996  469.200012  464.649994   \n",
      "\n",
      "Price                            Open     Volume  \n",
      "Ticker                            SPY        SPY  \n",
      "Date                                              \n",
      "2022-01-03 00:00:00+00:00  476.299988   72668200  \n",
      "2022-01-04 00:00:00+00:00  479.220001   71178700  \n",
      "2022-01-05 00:00:00+00:00  477.160004  104538900  \n",
      "2022-01-06 00:00:00+00:00  467.890015   86858900  \n",
      "2022-01-07 00:00:00+00:00  467.950012   85111600  \n"
     ]
    },
    {
     "name": "stderr",
     "output_type": "stream",
     "text": [
      "\n"
     ]
    }
   ],
   "source": [
    "# Copy code given by LLM\n",
    "# Append a little to check the records\n",
    "\n",
    "import yfinance as yf\n",
    "\n",
    "def download_data(symbols, start_date, end_date):\n",
    "    for symbol in symbols:\n",
    "        try:\n",
    "            data = yf.download(symbol, start=start_date, end=end_date)\n",
    "            print(f\"Downloaded data for {symbol} from {start_date} to {end_date}\")\n",
    "        except Exception as e:\n",
    "            print(f\"Error while downloading data for {symbol}: {e}\")\n",
    "        \n",
    "        print(data.head())\n",
    "        \n",
    "        \n",
    "# Define the symbols and date range (YYYY-MM-DD format)\n",
    "symbols = [\"AAPL\", \"MSFT\", \"AMZN\", \"GOOGL\", \"TSLA\", \"NVDA\", \"META\", \"BTC-USD\", \"SPY\"]\n",
    "start_date = '2022-01-01'\n",
    "end_date = '2023-12-31'\n",
    "\n",
    "# Call the function to download data for each symbol in the list\n",
    "# append to dataframe for each\n",
    "download_data(symbols, start_date, end_date)"
   ]
  },
  {
   "cell_type": "markdown",
   "id": "112a4666",
   "metadata": {},
   "source": [
    "## Ask the LLM for Top 10 KPIs for Stock Performance and Compute using yfinance"
   ]
  },
  {
   "cell_type": "code",
   "execution_count": 86,
   "id": "cdc9336e",
   "metadata": {},
   "outputs": [],
   "source": [
    "prompt = \"\"\"\n",
    "Tell the top 10 KPIs such as Closing Price, Returns, Volatility, Volume, Moving Average (50-day and 200-day)\n",
    ", Relative Strength Index (RSI), Price-to-Earnings (P/E) ratio, Beta, Sharpe Ratio and Dividend yield\n",
    "that I could check for the performance of the stocks with data available on yfinance, explain what they are and how to interpret them.\n",
    "Provide the Python code to compute and visualize them for the following tickers during the years 2022 and 2023:\n",
    "- Magnificent 7 stocks: Apple (AAPL), Microsoft (MSFT), Amazon (AMZN), Alphabet (GOOGL), Tesla (TSLA), Nvidia (NVDA), Meta (META)\n",
    "- Bitcoin (BTC-USD)\n",
    "- S&P 500 index (SPY)\n",
    "Use only the yfinance, pandas, numpy and matplotlib libraries.\n",
    "\"\"\""
   ]
  },
  {
   "cell_type": "code",
   "execution_count": 87,
   "id": "63cc94a2",
   "metadata": {},
   "outputs": [
    {
     "data": {
      "text/markdown": [
       "1. Closing Price: The last price at which a stock was traded during a trading session. It reflects the market's collective assessment of a company's value at the end of the day. Lower closing prices might indicate bearish sentiment, while higher prices could be bullish.\n",
       "\n",
       "2. Returns: The percentage change in the closing price over a specific period. Positive returns indicate an increase in value, while negative returns indicate a decrease.\n",
       "\n",
       "3. Volatility (Historical Volatility or Standard Deviation): A statistical measure of the dispersion of returns for a given security or market index. Higher volatility indicates larger fluctuations in price, making the investment riskier but potentially offering higher rewards.\n",
       "\n",
       "4. Volume: The number of shares or contracts traded in a security or market during a given period. High volume can signify strong interest in a stock and increased liquidity.\n",
       "\n",
       "5. Moving Average (50-day and 200-day): These are the averages calculated over the previous 50 and 200 trading days, respectively. They help identify trends and support/resistance levels. A stock above its 50-day moving average is considered bullish, while below suggests bearishness.\n",
       "\n",
       "6. Relative Strength Index (RSI): A momentum oscillator that measures the magnitude of recent price changes to determine overbought or oversold conditions in a security. RSI values above 70 indicate overbought conditions and may suggest a potential reversal, while values below 30 indicate oversold conditions that could also signal a reversal.\n",
       "\n",
       "7. Price-to-Earnings (P/E) ratio: A valuation ratio that measures the price of a stock relative to its earnings per share (EPS). A lower P/E ratio generally indicates better value, as you're paying less for each dollar of a company's earnings.\n",
       "\n",
       "8. Beta: A measure of the riskiness of a security or portfolio in relation to the market as a whole. A beta of 1 indicates the asset behaves similarly to the market, while a beta greater than 1 suggests higher volatility and risk, and a beta less than 1 indicates lower volatility and risk compared to the market.\n",
       "\n",
       "9. Sharpe Ratio: A measure of risk-adjusted return that assesses the rewards received for taking on risk. It compares the excess return of an asset to the return of a risk-free investment, like the 3-month Treasury bill rate. A higher Sharpe ratio means better risk-adjusted performance.\n",
       "\n",
       "10. Dividend Yield: The annual dividend paid out by a company as a percentage of its stock price. Higher dividend yields can indicate income potential but may also suggest that the stock is overpriced based on earnings.\n",
       "\n",
       "Here's the Python code using yfinance, pandas, numpy and matplotlib libraries to compute and visualize the mentioned KPIs for the given tickers during 2022 and 2023:\n",
       "\n",
       "```python\n",
       "import yfinance as yf\n",
       "import pandas as pd\n",
       "import numpy as np\n",
       "import matplotlib.pyplot as plt\n",
       "\n",
       "tickers = ['AAPL', 'MSFT', 'AMZN', 'GOOGL', 'TSLA', 'NVDA', 'META', 'BTC-USD', 'SPY']\n",
       "start_date = '2022-01-01'\n",
       "end_date = '2023-12-31'\n",
       "data = yf.download(tickers, start=start_date, end=end_date)\n",
       "\n",
       "# Close Price and Returns calculation\n",
       "prices = data['Close']\n",
       "daily_returns = prices.pct_change()\n",
       "\n",
       "# Calculating Volatility (Standard Deviation)\n",
       "volatility = daily_returns.std(ddof=1)\n",
       "\n",
       "# Moving Averages calculation\n",
       "moving_avg50 = data['Close'].rolling(window=50).mean()\n",
       "moving_avg200 = data['Close'].rolling(window=200).mean()\n",
       "\n",
       "# RSI Calculation (using the 'talib' library for RSI calculation, you may need to install it)\n",
       "from ta.momentum import RSIIndicator\n",
       "rsi = RSIIndicator(data['Close'])\n",
       "\n",
       "# Price-to-Earnings ratio can be calculated using yfinance or if earnings data is available, as PE_ratio = price / EPS\n",
       "\n",
       "# Beta calculation (using the 'alpha_vantage' library for beta estimation, you may need to install it)\n",
       "from alphavantagelib import AlphaVantage\n",
       "api_key = \"YOUR_API_KEY\"\n",
       "av = AlphaVantage(api_key)\n",
       "betas = av.get_stock_daily(symbol=tickers, interval='daily', function='TIME_SERIES_BETA', api_key=api_key)\n",
       "beta_df = pd.DataFrame(betas['Time Series Beta'])['5. Beta']\n",
       "\n",
       "# Sharpe Ratio calculation (assuming a risk-free rate of 0.01, or 1%)\n",
       "risk_free_rate = 0.01\n",
       "annualized_volatility = np.sqrt(volatility.mean() * 252)\n",
       "excess_returns = daily_returns + risk_free_rate - 1\n",
       "sharpe_ratio = excess_returns.mean() / annualized_volatility\n",
       "\n",
       "# Dividend yield (for stocks that pay dividends, you can find the Dividend Yield On Yahoo Finance or other financial platforms)\n",
       "dividend_yields = [0.0218, 0.95, 0.0037, 0.0007, 0.0042, 0.0068, 0.00] # Dividend yields for the given stocks as examples\n",
       "\n",
       "# Visualizing Close Prices and Moving Averages\n",
       "plt.figure(figsize=(15,8))\n",
       "for ticker in tickers:\n",
       "    plt.plot(data[ticker]['Close'], label=ticker)\n",
       "plt.plot(moving_avg50[ticker], color='red', label='50-day MA')\n",
       "plt.plot(moving_avg200[ticker], color='blue', label='200-day MA')\n",
       "plt.legend()\n",
       "plt.title('Close Prices and Moving Averages')\n",
       "plt.show()\n",
       "```"
      ],
      "text/plain": [
       "<IPython.core.display.Markdown object>"
      ]
     },
     "metadata": {},
     "output_type": "display_data"
    }
   ],
   "source": [
    "# Use the invoke method to get response from the LLM\n",
    "response2 = model.invoke(prompt)\n",
    "\n",
    "# Print the response to review the provided code snippet\n",
    "display(Markdown(response2))"
   ]
  },
  {
   "cell_type": "code",
   "execution_count": 91,
   "id": "13f2ea1f",
   "metadata": {},
   "outputs": [
    {
     "name": "stderr",
     "output_type": "stream",
     "text": [
      "[*********************100%***********************]  9 of 9 completed\n",
      "C:\\Users\\Ning\\AppData\\Local\\Temp\\ipykernel_17584\\2338245915.py:11: FutureWarning: The default fill_method='pad' in DataFrame.pct_change is deprecated and will be removed in a future version. Either fill in any non-leading NA values prior to calling pct_change or specify 'fill_method=None' to not fill NA values.\n",
      "  daily_returns = prices.pct_change()\n"
     ]
    },
    {
     "data": {
      "image/png": "[encoded data removed]",
      "text/plain": [
       "<Figure size 1500x800 with 1 Axes>"
      ]
     },
     "metadata": {},
     "output_type": "display_data"
    }
   ],
   "source": [
    "# Copy the code\n",
    "# Update it\n",
    "\n",
    "tickers = ['AAPL', 'MSFT', 'AMZN', 'GOOGL', 'TSLA', 'NVDA', 'META', 'BTC-USD', 'SPY']\n",
    "start_date = '2022-01-01'\n",
    "end_date = '2023-12-31'\n",
    "data = yf.download(tickers, start=start_date, end=end_date)\n",
    "\n",
    "# Close Price and Returns calculation\n",
    "prices = data['Close']\n",
    "daily_returns = prices.pct_change()\n",
    "\n",
    "# Calculating Volatility (Standard Deviation)\n",
    "volatility = daily_returns.std(ddof=1)\n",
    "\n",
    "# Moving Averages calculation\n",
    "moving_avg50 = data['Close'].rolling(window=50).mean()\n",
    "moving_avg200 = data['Close'].rolling(window=200).mean()\n",
    "\n",
    "# RSI Calculation (using the 'talib' library for RSI calculation, you may need to install it)\n",
    "# from ta.momentum import RSIIndicator\n",
    "# rsi = RSIIndicator(data['Close'])\n",
    "\n",
    "# Price-to-Earnings ratio can be calculated using yfinance or if earnings data is available, as PE_ratio = price / EPS\n",
    "\n",
    "# Beta calculation (using the 'alpha_vantage' library for beta estimation, you may need to install it)\n",
    "# from alphavantagelib import AlphaVantage\n",
    "# api_key = \"YOUR_API_KEY\"\n",
    "# av = AlphaVantage(api_key)\n",
    "# betas = av.get_stock_daily(symbol=tickers, interval='daily', function='TIME_SERIES_BETA', api_key=api_key)\n",
    "# beta_df = pd.DataFrame(betas['Time Series Beta'])['5. Beta']\n",
    "\n",
    "# Sharpe Ratio calculation (assuming a risk-free rate of 0.01, or 1%)\n",
    "risk_free_rate = 0.01\n",
    "annualized_volatility = np.sqrt(volatility.mean() * 252)\n",
    "excess_returns = daily_returns + risk_free_rate - 1\n",
    "sharpe_ratio = excess_returns.mean() / annualized_volatility\n",
    "\n",
    "# Dividend yield (for stocks that pay dividends, you can find the Dividend Yield On Yahoo Finance or other financial platforms)\n",
    "dividend_yields = [0.0218, 0.95, 0.0037, 0.0007, 0.0042, 0.0068, 0.00] # Dividend yields for the given stocks as examples\n",
    "\n",
    "# Visualizing Close Prices and Moving Averages\n",
    "plt.figure(figsize=(15,8))\n",
    "for ticker in tickers:\n",
    "    plt.plot(data['Close'][ticker], label=ticker) # Had to update this due to incorrect sequence\n",
    "plt.plot(moving_avg50[ticker], color='red', label='50-day MA')\n",
    "plt.plot(moving_avg200[ticker], color='blue', label='200-day MA')\n",
    "plt.legend()\n",
    "plt.title('Close Prices and Moving Averages')\n",
    "plt.show()"
   ]
  },
  {
   "cell_type": "markdown",
   "id": "eabae921",
   "metadata": {},
   "source": [
    "## Ask LLM to explain Modern Portfolio Theory and provide Python code to optimise a Stock Portfolio"
   ]
  },
  {
   "cell_type": "code",
   "execution_count": 92,
   "id": "9007d918",
   "metadata": {},
   "outputs": [],
   "source": [
    "# Create the prompt to ask the LLM for the explanation and code snippet\n",
    "prompt3 = \"\"\"\n",
    "Explain to me what is the Modern Portfolio Theory and provide the Python code snippet to optimize the stock portfolio among the following stocks:\n",
    "- Magnificent 7 stocks: Apple (AAPL), Microsoft (MSFT), Amazon (AMZN), Alphabet (GOOGL), Tesla (TSLA), Nvidia (NVDA), Meta (META)\n",
    "- Bitcoin (BTC-USD)\n",
    "- S&P 500 index (SPY)\n",
    "Use only the yfinance, pandas, numpy, and matplotlib libraries and use data from 2022 and 2023.\n",
    "Print the weights for each stock.\n",
    "\"\"\""
   ]
  },
  {
   "cell_type": "code",
   "execution_count": 104,
   "id": "a03c2f78",
   "metadata": {},
   "outputs": [
    {
     "data": {
      "text/markdown": [
       " The Modern Portfolio Theory (MPT), proposed by Harry Markowitz in 1952, is a mathematical framework for assembling a portfolio that efficiently trade-offs risk and reward. It suggests that an efficient portfolio is one that delivers the highest possible returns for a given level of risk or minimizes risk for a given level of expected return.\n",
       "\n",
       "   To optimize a stock portfolio using Python, we can use libraries like yfinance, pandas, numpy, and matplotlib. Here's a simplified example using your provided stocks: Apple (AAPL), Microsoft (MSFT), Amazon (AMZN), Alphabet (GOOGL), Tesla (TSLA), Nvidia (NVDA), Meta (META), Bitcoin (BTC-USD), and S&P 500 index (SPY). We will use data from January 1, 2022, to December 31, 2023.\n",
       "\n",
       "   Note that portfolio optimization is a complex task with many variables, such as the risk tolerance of the investor or specific constraints on certain stocks. However, I'll provide a basic code snippet for a mean-variance optimization using the Markowitz's Modern Portfolio Theory.\n",
       "\n",
       "```python\n",
       "import yfinance as yf\n",
       "import pandas as pd\n",
       "import numpy as np\n",
       "from scipy.optimize import minimize_scalar\n",
       "import matplotlib.pyplot as plt\n",
       "\n",
       "# Download historical data for all stocks and index\n",
       "data = {ticker: yf.download(ticker, start='2022-01-01', end='2023-12-31')['Adj Close'] for ticker in ['AAPL', 'MSFT', 'AMZN', 'GOOGL', 'TSLA', 'NVDA', 'META', 'BTC-USD', 'SPY']}\n",
       "data.update({'BTC-USD': yf.download('BTC-USD=X','2022-01-01', '2023-12-31')['Close']})\n",
       "data['SPY'] = yf.download('^GSPC', start='2022-01-01', end='2023-12-31')['Adj Close']\n",
       "\n",
       "# Calculate daily returns for each asset\n",
       "returns = pd.DataFrame(data).pct_change().dropna()\n",
       "\n",
       "# Calculate expected return and risk (volatility) of each asset\n",
       "mean_return = returns.mean()\n",
       "covariance_matrix = returns.cov()\n",
       "\n",
       "# Function to calculate the variance of a portfolio given its weights\n",
       "def variance_portfolio(weights, covariance_matrix):\n",
       "    return np.dot(np.dot(weights.T, covariance_matrix), weights)\n",
       "\n",
       "# Minimize the risk (variance) for a given expected return (mean_return*w.sum())\n",
       "def optimize_portfolio():\n",
       "    def objective_function(weights):\n",
       "        target = mean_return.values * weights.sum() - variance_portfolio(weights, covariance_matrix)\n",
       "        return -target\n",
       "\n",
       "    result = minimize_scalar(objective_function, bounds=(0, 1), method='bounded')\n",
       "    weights = pd.Series(result.x, index=mean_return.index)\n",
       "    print(\"Optimal Portfolio Weights:\", weights)\n",
       "\n",
       "optimize_portfolio()\n",
       "```\n",
       "\n",
       "This script calculates the expected return and risk of each asset (stock or index), optimizes their portfolio weights based on Markowitz's Modern Portfolio Theory using a mean-variance optimization approach, and prints out the optimal weights for each stock. Keep in mind that this example is quite simple and doesn't consider various aspects like transaction costs, rebalancing frequency, or the specific investor's risk tolerance."
      ],
      "text/plain": [
       "<IPython.core.display.Markdown object>"
      ]
     },
     "metadata": {},
     "output_type": "display_data"
    }
   ],
   "source": [
    "# Use the invoke method to get the response from the LLM\n",
    "response3 = model.invoke(prompt3)\n",
    " \n",
    "# Print the response to review the provided code snippet\n",
    "display(Markdown(response3))"
   ]
  },
  {
   "cell_type": "code",
   "execution_count": 118,
   "id": "ac2be7b1",
   "metadata": {},
   "outputs": [
    {
     "name": "stderr",
     "output_type": "stream",
     "text": [
      "[*********************100%***********************]  9 of 9 completed"
     ]
    },
    {
     "name": "stdout",
     "output_type": "stream",
     "text": [
      "Optimal Portfolio Weights:\n",
      "Ticker\n",
      "AAPL       0.111111\n",
      "AMZN       0.111111\n",
      "BTC-USD    0.111111\n",
      "GOOGL      0.111111\n",
      "META       0.111111\n",
      "MSFT       0.111111\n",
      "NVDA       0.111111\n",
      "SPY        0.111111\n",
      "TSLA       0.111111\n",
      "dtype: float64\n"
     ]
    },
    {
     "name": "stderr",
     "output_type": "stream",
     "text": [
      "\n",
      "C:\\Users\\Ning\\AppData\\Local\\Temp\\ipykernel_17584\\1130649502.py:21: FutureWarning: The default fill_method='pad' in DataFrame.pct_change is deprecated and will be removed in a future version. Either fill in any non-leading NA values prior to calling pct_change or specify 'fill_method=None' to not fill NA values.\n",
      "  returns = data.pct_change().dropna()\n"
     ]
    }
   ],
   "source": [
    "# Copy code above\n",
    "# Edit and optimise\n",
    "import yfinance as yf\n",
    "import numpy as np\n",
    "import pandas as pd\n",
    "from scipy.optimize import minimize\n",
    "\n",
    "\"\"\"\n",
    "1. Optimised tickers and data into dataframe directly\n",
    "2. Due to ValueError, changed minimize_scalar to minimize\n",
    "3. Added calculations for constraints, bounds, initial_weights\n",
    "\"\"\"\n",
    "\n",
    "# Define tickers\n",
    "tickers = ['AAPL', 'MSFT', 'AMZN', 'GOOGL', 'TSLA', 'NVDA', 'META', 'BTC-USD', 'SPY']\n",
    "\n",
    "# Download historical data for all assets\n",
    "data = yf.download(tickers, start='2022-01-01', end='2023-12-31')['Adj Close']\n",
    "\n",
    "# Calculate daily returns for each asset\n",
    "returns = data.pct_change().dropna()\n",
    "\n",
    "# Calculate expected return and covariance matrix of returns\n",
    "mean_return = returns.mean()\n",
    "covariance_matrix = returns.cov()\n",
    "\n",
    "# Function to calculate portfolio variance given weights and covariance matrix\n",
    "def variance_portfolio(weights, covariance_matrix):\n",
    "    return np.dot(weights.T, np.dot(covariance_matrix, weights))\n",
    "\n",
    "# Constraints: Weights must sum to 1 (100% of the investment)\n",
    "constraints = ({'type': 'eq', 'fun': lambda weights: np.sum(weights) - 1})\n",
    "\n",
    "# Bounds for each weight (between 0 and 1)\n",
    "bounds = [(0, 1) for _ in range(len(tickers))]\n",
    "\n",
    "# Initial guess (equal weights)\n",
    "initial_weights = np.array([1 / len(tickers)] * len(tickers))\n",
    "\n",
    "# Objective function: minimize portfolio variance\n",
    "def objective_function(weights):\n",
    "    return variance_portfolio(weights, covariance_matrix)\n",
    "\n",
    "# Optimization\n",
    "result = minimize(objective_function, initial_weights, method='SLSQP', bounds=bounds, constraints=constraints)\n",
    "\n",
    "# Extract optimal weights\n",
    "optimal_weights = pd.Series(result.x, index=mean_return.index)\n",
    "\n",
    "print(\"Optimal Portfolio Weights:\")\n",
    "print(optimal_weights)"
   ]
  },
  {
   "cell_type": "markdown",
   "id": "bdde620f",
   "metadata": {},
   "source": [
    "## Explore and Implement Alternative Optimization Techniques to Modern Portfolio Theory (MPT)"
   ]
  },
  {
   "cell_type": "code",
   "execution_count": 122,
   "id": "72322262",
   "metadata": {},
   "outputs": [],
   "source": [
    "# Create the prompt to ask the LLM for alternative optimization techniques\n",
    "prompt4 = \"\"\"\n",
    "Below is the output of the Modern portfolio Theory for the stocks below based on data from 2022 and 2023:\n",
    "AAPL       0.111111\n",
    "AMZN       0.111111\n",
    "BTC-USD    0.111111\n",
    "GOOGL      0.111111\n",
    "META       0.111111\n",
    "MSFT       0.111111\n",
    "NVDA       0.111111\n",
    "SPY        0.111111\n",
    "TSLA       0.111111\n",
    "- Magnificent 7 stocks: Apple (AAPL), Microsoft (MSFT), Amazon (AMZN), Alphabet (GOOGL), Tesla (TSLA), Nvidia (NVDA), Meta (META)\n",
    "- Bitcoin (BTC-USD)\n",
    "- S&P 500 index (SPY)\n",
    " \n",
    "Your task is to suggest 3 other optimization techniques that could be better than the MPT based on the data and explain the pros and cons for each.\n",
    "\"\"\""
   ]
  },
  {
   "cell_type": "code",
   "execution_count": 123,
   "id": "e3395c27",
   "metadata": {},
   "outputs": [
    {
     "data": {
      "text/markdown": [
       "1. Risk Parity Optimization:\n",
       "   - This technique aims to allocate assets in a way that the volatility (risk) of each asset is equal, rather than the traditional approach of weighting by market value. This can help reduce the overall portfolio risk.\n",
       "   - Pros: Balanced risk exposure across assets, potential for lower volatility, and improved diversification.\n",
       "   - Cons: May not maximize returns as efficiently as other optimization techniques (such as MPT), requires more frequent rebalancing due to changing risks, and assumes that risk and return are linearly related which may not always be the case.\n",
       "\n",
       "2. Dynamic Asset Allocation (DAA):\n",
       "   - DAA involves adjusting the asset allocation of a portfolio over time based on market conditions, economic indicators, or other factors that influence expected returns. This is in contrast to MPT, which assumes a static investment horizon.\n",
       "   - Pros: Adapts to changing market conditions, potentially improving risk-adjusted returns, and can help protect against major downturns by reducing exposure to underperforming assets.\n",
       "   - Cons: Increased complexity due to the need for ongoing monitoring and adjustments, may require significant resources and expertise, and the performance may not always be superior to a static portfolio or MPT.\n",
       "\n",
       "3. Black-Litterman Model (BLM):\n",
       "   - BLM is an extension of Modern Portfolio Theory that incorporates investor's subjective views on expected returns for each asset. This can help in cases where the traditional MPT assumptions do not hold, such as when there is limited or uncertain data about future returns.\n",
       "   - Pros: Allows for integration of investor beliefs and expectations, potentially leading to more informed and personalized portfolios, and may provide better risk-adjusted returns by adjusting for idiosyncratic views on individual assets.\n",
       "   - Cons: Requires subjective input from investors, which can introduce bias and uncertainty, assumptions about the distribution of errors in beliefs may not always be accurate, and the performance may not always be superior to a traditional MPT portfolio."
      ],
      "text/plain": [
       "<IPython.core.display.Markdown object>"
      ]
     },
     "metadata": {},
     "output_type": "display_data"
    }
   ],
   "source": [
    "# Use the invoke method to get the response from the LLM\n",
    "response4 = model.invoke(prompt4)\n",
    " \n",
    "# Print the response to review the provided explanation and code snippet\n",
    "display(Markdown(response4))"
   ]
  },
  {
   "cell_type": "code",
   "execution_count": 133,
   "id": "2fb4ada8",
   "metadata": {},
   "outputs": [],
   "source": [
    "# New Prompt to ask LLM to provide python code for risk parity optimization for \n",
    "# the specified portfolio using data from 2022 and 2023\n",
    "prompt5 = \"\"\"\n",
    "Provide the code for a dynamic asset allocation for the following portfolio using data from 2022 and 2023 from yfinance API using scipy.optimize :\n",
    "- Magnificent 7 stocks: Apple (AAPL), Microsoft (MSFT), Amazon (AMZN), Alphabet (GOOGL), Tesla (TSLA), Nvidia (NVDA), Meta (META)\n",
    "- Bitcoin (BTC-USD)\n",
    "- S&P 500 index (SPY)\n",
    " \n",
    "\"\"\""
   ]
  },
  {
   "cell_type": "code",
   "execution_count": 134,
   "id": "80973943",
   "metadata": {},
   "outputs": [
    {
     "data": {
      "text/markdown": [
       " I cannot provide the exact code as I don't have your specific optimization goals and constraints. However, here is a basic outline of how you can achieve dynamic asset allocation using Python, yfinance API for data collection, and scipy.optimize for optimization:\n",
       "\n",
       "```python\n",
       "import yfinance as yf\n",
       "from scipy.optimize import minimize\n",
       "import numpy as np\n",
       "\n",
       "# Load historical price data for the assets in the year 2022 and 2023\n",
       "assets = ['AAPL', 'MSFT', 'AMZN', 'GOOGL', 'TSLA', 'NVDA', 'META', 'BTC-USD', 'SPY']\n",
       "years = [2022, 2023]\n",
       "data = {asset: yf.download(asset, start=f'{year}-01-01', end=f'{year+1}-12-31') for asset in assets}\n",
       "\n",
       "# Calculate daily returns for each asset (assuming simple return)\n",
       "returns = {asset: data[asset]['Close'].pct_change().dropna() for asset in assets}\n",
       "\n",
       "# Combine the returns into a single array with appropriate dimensions for optimization\n",
       "num_assets = len(assets)\n",
       "num_days = np.size(returns['AAPL'])\n",
       "returns = np.array([[returns[asset][day] for asset in assets] for day in range(num_days)])\n",
       "\n",
       "# Define the optimization function to minimize the variance of portfolio returns\n",
       "def optimization_func(weights, returns):\n",
       "    portfolio_return = np.sum(weights * returns, axis=1)  # Sum up weighted returns across all assets\n",
       "    portfolio_variance = np.var(portfolio_return)     # Calculate the variance of the portfolio return\n",
       "    return portfolio_variance                        # Return the variance as objective function value\n",
       "\n",
       "# Define initial guess for weights, any value between 0 and 1 would work (usually equal distribution is a good starting point)\n",
       "initial_guess = np.ones(num_assets)/num_assets\n",
       "\n",
       "# Define the constraints (you can add more if needed)\n",
       "constraints = ({'type': 'eq', 'fun': lambda x: np.sum(x) - 1})\n",
       "\n",
       "# Perform optimization using scipy.optimize.minimize\n",
       "result = minimize(optimization_func, initial_guess, args=(returns,), constraints=constraints)\n",
       "\n",
       "# Print the optimal weights for each asset\n",
       "print(\"Optimal Weights:\")\n",
       "print(result.x)\n",
       "```"
      ],
      "text/plain": [
       "<IPython.core.display.Markdown object>"
      ]
     },
     "metadata": {},
     "output_type": "display_data"
    }
   ],
   "source": [
    "# Use the invoke method to get the response from the LLM\n",
    "response5 = model.invoke(prompt5)\n",
    " \n",
    "# Print the response to review the provided code snippet\n",
    "display(Markdown(response5))"
   ]
  },
  {
   "cell_type": "code",
   "execution_count": 135,
   "id": "9853abbe",
   "metadata": {},
   "outputs": [
    {
     "name": "stderr",
     "output_type": "stream",
     "text": [
      "[*********************100%***********************]  9 of 9 completed"
     ]
    },
    {
     "name": "stdout",
     "output_type": "stream",
     "text": [
      "Optimal Weights:\n",
      "[0.11111111 0.11111111 0.11111111 0.11111111 0.11111111 0.11111111\n",
      " 0.11111111 0.11111111 0.11111111]\n"
     ]
    },
    {
     "name": "stderr",
     "output_type": "stream",
     "text": [
      "\n",
      "C:\\Users\\Ning\\AppData\\Local\\Temp\\ipykernel_17584\\1288306664.py:11: FutureWarning: The default fill_method='pad' in DataFrame.pct_change is deprecated and will be removed in a future version. Either fill in any non-leading NA values prior to calling pct_change or specify 'fill_method=None' to not fill NA values.\n",
      "  returns = data.pct_change().dropna()\n",
      "C:\\Users\\Ning\\AppData\\Local\\Temp\\ipykernel_17584\\1288306664.py:16: FutureWarning: Series.__getitem__ treating keys as positions is deprecated. In a future version, integer keys will always be treated as labels (consistent with DataFrame behavior). To access a value by position, use `ser.iloc[pos]`\n",
      "  returns = np.array([[returns[asset][day] for asset in assets] for day in range(num_days)])\n"
     ]
    }
   ],
   "source": [
    "import yfinance as yf\n",
    "from scipy.optimize import minimize\n",
    "import numpy as np\n",
    "\n",
    "# Load historical price data for the assets in the year 2022 and 2023\n",
    "assets = ['AAPL', 'MSFT', 'AMZN', 'GOOGL', 'TSLA', 'NVDA', 'META', 'BTC-USD', 'SPY']\n",
    "years = [2022, 2023]\n",
    "data = yf.download(assets, start='2022-01-01', end=f'2023-12-31')['Adj Close']\n",
    "\n",
    "# Calculate daily returns for each asset (assuming simple return)\n",
    "returns = data.pct_change().dropna()\n",
    "\n",
    "# Combine the returns into a single array with appropriate dimensions for optimization\n",
    "num_assets = len(assets)\n",
    "num_days = np.size(returns['AAPL'])\n",
    "returns = np.array([[returns[asset][day] for asset in assets] for day in range(num_days)])\n",
    "\n",
    "# Define the optimization function to minimize the variance of portfolio returns\n",
    "def optimization_func(weights, returns):\n",
    "    portfolio_return = np.sum(weights * returns, axis=1)  # Sum up weighted returns across all assets\n",
    "    portfolio_variance = np.var(portfolio_return)     # Calculate the variance of the portfolio return\n",
    "    return portfolio_variance                        # Return the variance as objective function value\n",
    "\n",
    "# Define initial guess for weights, any value between 0 and 1 would work (usually equal distribution is a good starting point)\n",
    "initial_guess = np.ones(num_assets)/num_assets\n",
    "\n",
    "# Define the constraints (you can add more if needed)\n",
    "constraints = ({'type': 'eq', 'fun': lambda x: np.sum(x) - 1})\n",
    "\n",
    "# Perform optimization using scipy.optimize.minimize\n",
    "result = minimize(optimization_func, initial_guess, args=(returns,), constraints=constraints)\n",
    "\n",
    "# Print the optimal weights for each asset\n",
    "print(\"Optimal Weights:\")\n",
    "print(result.x)"
   ]
  },
  {
   "cell_type": "code",
   "execution_count": null,
   "id": "bc077884",
   "metadata": {},
   "outputs": [],
   "source": []
  }
 ],
 "metadata": {
  "kernelspec": {
   "display_name": "Python 3 (ipykernel)",
   "language": "python",
   "name": "python3"
  },
  "language_info": {
   "codemirror_mode": {
    "name": "ipython",
    "version": 3
   },
   "file_extension": ".py",
   "mimetype": "text/x-python",
   "name": "python",
   "nbconvert_exporter": "python",
   "pygments_lexer": "ipython3",
   "version": "3.10.14"
  }
 },
 "nbformat": 4,
 "nbformat_minor": 5
}

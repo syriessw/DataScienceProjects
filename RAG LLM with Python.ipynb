{
 "cells": [
  {
   "cell_type": "markdown",
   "id": "2bb30f22",
   "metadata": {},
   "source": [
    "# Creating Retrieval Augmented Generation with Python"
   ]
  },
  {
   "cell_type": "markdown",
   "id": "dcad1947",
   "metadata": {},
   "source": [
    "Making use of free LLMs to create a Retrieval Augmented Generation that reads PDF documents using Langchain. LangChain is a framework to develop applications powered by LLMs with composability and reliability.\n",
    "\n",
    "__What is a RAG?__\n",
    "Retrieval Augmented Generation (RAG). Simply put, RAGs help LLMs by giving them access to external data so that they can generate a response with additional context. This context can be anything from recent news, audio transcripts of a lecture, or in my case — fantasy football news.\n",
    "\n",
    "Here are the 4 key steps that take place:\n",
    "\n",
    "- Load a vector database with encoded documents.\n",
    "- Encode the query into a vector using a sentence transformer.\n",
    "- Based on the inputted query, retrieve relevant context from thevector database.\n",
    "- Leverage context along with the query to prompt the LLM.\n",
    "\n",
    "![title](rag_model.webp)"
   ]
  },
  {
   "cell_type": "markdown",
   "id": "49ebde73",
   "metadata": {},
   "source": [
    "The main value propositions of the LangChain are:\n",
    "\n",
    "__Components:__ These are the set of abstractions needed to work with language models. Components are modular and easy to use for a wide range of LLM use cases.\n",
    "__Off-the-shelf chains:__ A structured assembly of various components and modules to accomplish a specific task such as summarization, Q&A, etc.\n",
    "\n",
    "LangChain has six main components to build LLM applications: model I/O, Data connections, Chains, Memory, Agents, and Callbacks. The framework also allows integration with many tools to develop full-stack applications, such as OpenAI, Huggingface Transformers, and Vectors stores like Pinecone and chromadb, among others.\n",
    "\n",
    "__Libraries involved:__\n",
    "- Langchain\n",
    "- Chroma\n",
    "- PyPDFLoader\n",
    "\n",
    "__Models used:__\n",
    "- Embedding: MiniLM\n",
    "- Text-Generation: Mistral\n",
    "\n",
    "__MiniLM__ is optimized for fast inference with small memory usage. It’s excellent for creating embeddings and handling NLP tasks on resource-constrained systems.\n",
    "\n",
    "__Mistral__ is a recently developed LLM that has gained attention for its performance, especially in terms of efficiency and scalability. The key features to note are efficient model architecture as it was designed to optimize performance by reducing computational overhead, being an open-weight models, having smal model size but high performance and is designed for real-time use cases."
   ]
  },
  {
   "cell_type": "markdown",
   "id": "c3f1f0e1",
   "metadata": {},
   "source": [
    "## Steps\n",
    "\n",
    "### Preinstallation\n",
    "- All relevant libraries through pip\n",
    "- Ollama server set-up with Mistral model pulled and saved locally\n",
    "\n",
    "### Application steps\n",
    "1. Load the PDFs with PyPDFLoader\n",
    "2. Utilise Langchain to split documents into chunks\n",
    "3. Save a local version of MiniLM model\n",
    "4. Declare embeddings with MiniLM\n",
    "5. Set up persistent Chroma DB with MiniLM embeddings\n",
    "6. Add document chunks into Chroma DB\n",
    "7. Create a PromptTemplate with LangChain\n",
    "8. Search the Chroma DB for the most relevant chunks (embeddings) and return the result\n",
    "9. Set up text-generation model Mistral\n",
    "10. Process result prompt and format\n",
    "\n",
    "### Additional\n",
    "1. Scrape web pages for some recipe\n",
    "2. Use BeautifulSoupTransformer to eliminate tags\n",
    "3. Repeat step 6 to 10 from above."
   ]
  },
  {
   "cell_type": "markdown",
   "id": "840f952e",
   "metadata": {},
   "source": [
    "Credits:\n",
    "- https://www.youtube.com/watch?v=uj1VnDPR9xo (https://github.com/pixegami/rag-tutorial-v2/blob/main/query_data.py)\n",
    "- https://medium.com/the-modern-scientist/building-generative-ai-applications-using-langchain-and-openai-apis-ee3212400630\n",
    "- https://www.comet.com/site/blog/top-5-web-scraping-methods-including-using-llms/\n",
    "- https://medium.com/@thakermadhav/build-your-own-rag-with-mistral-7b-and-langchain-97d0c92fa146"
   ]
  },
  {
   "cell_type": "markdown",
   "id": "c5b0a30c",
   "metadata": {},
   "source": [
    "## Set up"
   ]
  },
  {
   "cell_type": "code",
   "execution_count": 1,
   "id": "cd801959",
   "metadata": {},
   "outputs": [
    {
     "name": "stdout",
     "output_type": "stream",
     "text": [
      "Requirement already satisfied: langchain in h:\\anaconda3\\lib\\site-packages (0.3.4)\n",
      "Requirement already satisfied: PyYAML>=5.3 in h:\\anaconda3\\lib\\site-packages (from langchain) (6.0.1)\n",
      "Requirement already satisfied: SQLAlchemy<3,>=1.4 in h:\\anaconda3\\lib\\site-packages (from langchain) (2.0.34)\n",
      "Requirement already satisfied: aiohttp<4.0.0,>=3.8.3 in h:\\anaconda3\\lib\\site-packages (from langchain) (3.10.5)\n",
      "Requirement already satisfied: async-timeout<5.0.0,>=4.0.0 in h:\\anaconda3\\lib\\site-packages (from langchain) (4.0.3)\n",
      "Requirement already satisfied: langchain-core<0.4.0,>=0.3.12 in h:\\anaconda3\\lib\\site-packages (from langchain) (0.3.12)\n",
      "Requirement already satisfied: langchain-text-splitters<0.4.0,>=0.3.0 in h:\\anaconda3\\lib\\site-packages (from langchain) (0.3.0)\n",
      "Requirement already satisfied: langsmith<0.2.0,>=0.1.17 in h:\\anaconda3\\lib\\site-packages (from langchain) (0.1.137)\n",
      "Requirement already satisfied: numpy<2,>=1 in h:\\anaconda3\\lib\\site-packages (from langchain) (1.26.4)\n",
      "Requirement already satisfied: pydantic<3.0.0,>=2.7.4 in h:\\anaconda3\\lib\\site-packages (from langchain) (2.8.2)\n",
      "Requirement already satisfied: requests<3,>=2 in h:\\anaconda3\\lib\\site-packages (from langchain) (2.32.3)\n",
      "Requirement already satisfied: tenacity!=8.4.0,<10,>=8.1.0 in h:\\anaconda3\\lib\\site-packages (from langchain) (8.2.3)\n",
      "Requirement already satisfied: aiohappyeyeballs>=2.3.0 in h:\\anaconda3\\lib\\site-packages (from aiohttp<4.0.0,>=3.8.3->langchain) (2.4.0)\n",
      "Requirement already satisfied: aiosignal>=1.1.2 in h:\\anaconda3\\lib\\site-packages (from aiohttp<4.0.0,>=3.8.3->langchain) (1.2.0)\n",
      "Requirement already satisfied: attrs>=17.3.0 in h:\\anaconda3\\lib\\site-packages (from aiohttp<4.0.0,>=3.8.3->langchain) (23.1.0)\n",
      "Requirement already satisfied: frozenlist>=1.1.1 in h:\\anaconda3\\lib\\site-packages (from aiohttp<4.0.0,>=3.8.3->langchain) (1.4.0)\n",
      "Requirement already satisfied: multidict<7.0,>=4.5 in h:\\anaconda3\\lib\\site-packages (from aiohttp<4.0.0,>=3.8.3->langchain) (6.0.4)\n",
      "Requirement already satisfied: yarl<2.0,>=1.0 in h:\\anaconda3\\lib\\site-packages (from aiohttp<4.0.0,>=3.8.3->langchain) (1.11.0)\n",
      "Requirement already satisfied: jsonpatch<2.0,>=1.33 in h:\\anaconda3\\lib\\site-packages (from langchain-core<0.4.0,>=0.3.12->langchain) (1.33)\n",
      "Requirement already satisfied: packaging<25,>=23.2 in h:\\anaconda3\\lib\\site-packages (from langchain-core<0.4.0,>=0.3.12->langchain) (24.1)\n",
      "Requirement already satisfied: typing-extensions>=4.7 in h:\\anaconda3\\lib\\site-packages (from langchain-core<0.4.0,>=0.3.12->langchain) (4.11.0)\n",
      "Requirement already satisfied: httpx<1,>=0.23.0 in h:\\anaconda3\\lib\\site-packages (from langsmith<0.2.0,>=0.1.17->langchain) (0.27.0)\n",
      "Requirement already satisfied: orjson<4.0.0,>=3.9.14 in h:\\anaconda3\\lib\\site-packages (from langsmith<0.2.0,>=0.1.17->langchain) (3.10.10)\n",
      "Requirement already satisfied: requests-toolbelt<2.0.0,>=1.0.0 in h:\\anaconda3\\lib\\site-packages (from langsmith<0.2.0,>=0.1.17->langchain) (1.0.0)\n",
      "Requirement already satisfied: annotated-types>=0.4.0 in h:\\anaconda3\\lib\\site-packages (from pydantic<3.0.0,>=2.7.4->langchain) (0.6.0)\n",
      "Requirement already satisfied: pydantic-core==2.20.1 in h:\\anaconda3\\lib\\site-packages (from pydantic<3.0.0,>=2.7.4->langchain) (2.20.1)\n",
      "Requirement already satisfied: charset-normalizer<4,>=2 in h:\\anaconda3\\lib\\site-packages (from requests<3,>=2->langchain) (2.0.4)\n",
      "Requirement already satisfied: idna<4,>=2.5 in h:\\anaconda3\\lib\\site-packages (from requests<3,>=2->langchain) (3.7)\n",
      "Requirement already satisfied: urllib3<3,>=1.21.1 in h:\\anaconda3\\lib\\site-packages (from requests<3,>=2->langchain) (2.2.2)\n",
      "Requirement already satisfied: certifi>=2017.4.17 in h:\\anaconda3\\lib\\site-packages (from requests<3,>=2->langchain) (2024.8.30)\n",
      "Requirement already satisfied: greenlet!=0.4.17 in h:\\anaconda3\\lib\\site-packages (from SQLAlchemy<3,>=1.4->langchain) (3.0.1)\n",
      "Requirement already satisfied: anyio in h:\\anaconda3\\lib\\site-packages (from httpx<1,>=0.23.0->langsmith<0.2.0,>=0.1.17->langchain) (4.2.0)\n",
      "Requirement already satisfied: httpcore==1.* in h:\\anaconda3\\lib\\site-packages (from httpx<1,>=0.23.0->langsmith<0.2.0,>=0.1.17->langchain) (1.0.2)\n",
      "Requirement already satisfied: sniffio in h:\\anaconda3\\lib\\site-packages (from httpx<1,>=0.23.0->langsmith<0.2.0,>=0.1.17->langchain) (1.3.0)\n",
      "Requirement already satisfied: h11<0.15,>=0.13 in h:\\anaconda3\\lib\\site-packages (from httpcore==1.*->httpx<1,>=0.23.0->langsmith<0.2.0,>=0.1.17->langchain) (0.14.0)\n",
      "Requirement already satisfied: jsonpointer>=1.9 in h:\\anaconda3\\lib\\site-packages (from jsonpatch<2.0,>=1.33->langchain-core<0.4.0,>=0.3.12->langchain) (2.1)\n",
      "Requirement already satisfied: exceptiongroup>=1.0.2 in h:\\anaconda3\\lib\\site-packages (from anyio->httpx<1,>=0.23.0->langsmith<0.2.0,>=0.1.17->langchain) (1.2.0)\n",
      "Requirement already satisfied: chromadb in h:\\anaconda3\\lib\\site-packages (0.5.15)\n",
      "Requirement already satisfied: build>=1.0.3 in h:\\anaconda3\\lib\\site-packages (from chromadb) (1.2.2.post1)\n",
      "Requirement already satisfied: pydantic>=1.9 in h:\\anaconda3\\lib\\site-packages (from chromadb) (2.8.2)\n",
      "Requirement already satisfied: chroma-hnswlib==0.7.6 in h:\\anaconda3\\lib\\site-packages (from chromadb) (0.7.6)\n",
      "Requirement already satisfied: fastapi>=0.95.2 in h:\\anaconda3\\lib\\site-packages (from chromadb) (0.115.3)\n",
      "Requirement already satisfied: uvicorn>=0.18.3 in h:\\anaconda3\\lib\\site-packages (from uvicorn[standard]>=0.18.3->chromadb) (0.32.0)\n",
      "Requirement already satisfied: numpy>=1.22.5 in h:\\anaconda3\\lib\\site-packages (from chromadb) (1.26.4)\n",
      "Requirement already satisfied: posthog>=2.4.0 in h:\\anaconda3\\lib\\site-packages (from chromadb) (3.7.0)\n",
      "Requirement already satisfied: typing-extensions>=4.5.0 in h:\\anaconda3\\lib\\site-packages (from chromadb) (4.11.0)\n",
      "Requirement already satisfied: onnxruntime>=1.14.1 in h:\\anaconda3\\lib\\site-packages (from chromadb) (1.19.2)\n",
      "Requirement already satisfied: opentelemetry-api>=1.2.0 in h:\\anaconda3\\lib\\site-packages (from chromadb) (1.27.0)\n",
      "Requirement already satisfied: opentelemetry-exporter-otlp-proto-grpc>=1.2.0 in h:\\anaconda3\\lib\\site-packages (from chromadb) (1.27.0)\n",
      "Requirement already satisfied: opentelemetry-instrumentation-fastapi>=0.41b0 in h:\\anaconda3\\lib\\site-packages (from chromadb) (0.48b0)\n",
      "Requirement already satisfied: opentelemetry-sdk>=1.2.0 in h:\\anaconda3\\lib\\site-packages (from chromadb) (1.27.0)\n",
      "Requirement already satisfied: tokenizers>=0.13.2 in h:\\anaconda3\\lib\\site-packages (from chromadb) (0.20.1)\n",
      "Requirement already satisfied: pypika>=0.48.9 in h:\\anaconda3\\lib\\site-packages (from chromadb) (0.48.9)\n",
      "Requirement already satisfied: tqdm>=4.65.0 in h:\\anaconda3\\lib\\site-packages (from chromadb) (4.66.5)\n",
      "Requirement already satisfied: overrides>=7.3.1 in h:\\anaconda3\\lib\\site-packages (from chromadb) (7.4.0)\n",
      "Requirement already satisfied: importlib-resources in h:\\anaconda3\\lib\\site-packages (from chromadb) (6.4.5)\n",
      "Requirement already satisfied: grpcio>=1.58.0 in h:\\anaconda3\\lib\\site-packages (from chromadb) (1.67.0)\n",
      "Requirement already satisfied: bcrypt>=4.0.1 in h:\\anaconda3\\lib\\site-packages (from chromadb) (4.2.0)\n",
      "Requirement already satisfied: typer>=0.9.0 in h:\\anaconda3\\lib\\site-packages (from chromadb) (0.12.5)\n",
      "Requirement already satisfied: kubernetes>=28.1.0 in h:\\anaconda3\\lib\\site-packages (from chromadb) (31.0.0)\n",
      "Requirement already satisfied: tenacity>=8.2.3 in h:\\anaconda3\\lib\\site-packages (from chromadb) (8.2.3)\n",
      "Requirement already satisfied: PyYAML>=6.0.0 in h:\\anaconda3\\lib\\site-packages (from chromadb) (6.0.1)\n",
      "Requirement already satisfied: mmh3>=4.0.1 in h:\\anaconda3\\lib\\site-packages (from chromadb) (5.0.1)\n",
      "Requirement already satisfied: orjson>=3.9.12 in h:\\anaconda3\\lib\\site-packages (from chromadb) (3.10.10)\n",
      "Requirement already satisfied: httpx>=0.27.0 in h:\\anaconda3\\lib\\site-packages (from chromadb) (0.27.0)\n",
      "Requirement already satisfied: rich>=10.11.0 in h:\\anaconda3\\lib\\site-packages (from chromadb) (13.7.1)\n",
      "Requirement already satisfied: packaging>=19.1 in h:\\anaconda3\\lib\\site-packages (from build>=1.0.3->chromadb) (24.1)\n",
      "Requirement already satisfied: pyproject_hooks in h:\\anaconda3\\lib\\site-packages (from build>=1.0.3->chromadb) (1.2.0)\n",
      "Requirement already satisfied: colorama in h:\\anaconda3\\lib\\site-packages (from build>=1.0.3->chromadb) (0.4.6)\n",
      "Requirement already satisfied: tomli>=1.1.0 in h:\\anaconda3\\lib\\site-packages (from build>=1.0.3->chromadb) (2.0.1)\n",
      "Requirement already satisfied: starlette<0.42.0,>=0.40.0 in h:\\anaconda3\\lib\\site-packages (from fastapi>=0.95.2->chromadb) (0.41.0)\n",
      "Requirement already satisfied: anyio in h:\\anaconda3\\lib\\site-packages (from httpx>=0.27.0->chromadb) (4.2.0)\n",
      "Requirement already satisfied: certifi in h:\\anaconda3\\lib\\site-packages (from httpx>=0.27.0->chromadb) (2024.8.30)\n",
      "Requirement already satisfied: httpcore==1.* in h:\\anaconda3\\lib\\site-packages (from httpx>=0.27.0->chromadb) (1.0.2)\n",
      "Requirement already satisfied: idna in h:\\anaconda3\\lib\\site-packages (from httpx>=0.27.0->chromadb) (3.7)\n",
      "Requirement already satisfied: sniffio in h:\\anaconda3\\lib\\site-packages (from httpx>=0.27.0->chromadb) (1.3.0)\n",
      "Requirement already satisfied: h11<0.15,>=0.13 in h:\\anaconda3\\lib\\site-packages (from httpcore==1.*->httpx>=0.27.0->chromadb) (0.14.0)\n",
      "Requirement already satisfied: six>=1.9.0 in h:\\anaconda3\\lib\\site-packages (from kubernetes>=28.1.0->chromadb) (1.16.0)\n",
      "Requirement already satisfied: python-dateutil>=2.5.3 in h:\\anaconda3\\lib\\site-packages (from kubernetes>=28.1.0->chromadb) (2.9.0.post0)\n",
      "Requirement already satisfied: google-auth>=1.0.1 in h:\\anaconda3\\lib\\site-packages (from kubernetes>=28.1.0->chromadb) (2.35.0)\n",
      "Requirement already satisfied: websocket-client!=0.40.0,!=0.41.*,!=0.42.*,>=0.32.0 in h:\\anaconda3\\lib\\site-packages (from kubernetes>=28.1.0->chromadb) (1.8.0)\n",
      "Requirement already satisfied: requests in h:\\anaconda3\\lib\\site-packages (from kubernetes>=28.1.0->chromadb) (2.32.3)\n",
      "Requirement already satisfied: requests-oauthlib in h:\\anaconda3\\lib\\site-packages (from kubernetes>=28.1.0->chromadb) (2.0.0)\n",
      "Requirement already satisfied: oauthlib>=3.2.2 in h:\\anaconda3\\lib\\site-packages (from kubernetes>=28.1.0->chromadb) (3.2.2)\n",
      "Requirement already satisfied: urllib3>=1.24.2 in h:\\anaconda3\\lib\\site-packages (from kubernetes>=28.1.0->chromadb) (2.2.2)\n",
      "Requirement already satisfied: durationpy>=0.7 in h:\\anaconda3\\lib\\site-packages (from kubernetes>=28.1.0->chromadb) (0.9)\n",
      "Requirement already satisfied: coloredlogs in h:\\anaconda3\\lib\\site-packages (from onnxruntime>=1.14.1->chromadb) (15.0.1)\n",
      "Requirement already satisfied: flatbuffers in h:\\anaconda3\\lib\\site-packages (from onnxruntime>=1.14.1->chromadb) (24.3.25)\n",
      "Requirement already satisfied: protobuf in h:\\anaconda3\\lib\\site-packages (from onnxruntime>=1.14.1->chromadb) (3.20.3)\n",
      "Requirement already satisfied: sympy in h:\\anaconda3\\lib\\site-packages (from onnxruntime>=1.14.1->chromadb) (1.13.1)\n",
      "Requirement already satisfied: deprecated>=1.2.6 in h:\\anaconda3\\lib\\site-packages (from opentelemetry-api>=1.2.0->chromadb) (1.2.14)\n",
      "Requirement already satisfied: importlib-metadata<=8.4.0,>=6.0 in h:\\anaconda3\\lib\\site-packages (from opentelemetry-api>=1.2.0->chromadb) (7.0.1)\n",
      "Requirement already satisfied: googleapis-common-protos~=1.52 in h:\\anaconda3\\lib\\site-packages (from opentelemetry-exporter-otlp-proto-grpc>=1.2.0->chromadb) (1.65.0)\n",
      "Requirement already satisfied: opentelemetry-exporter-otlp-proto-common==1.27.0 in h:\\anaconda3\\lib\\site-packages (from opentelemetry-exporter-otlp-proto-grpc>=1.2.0->chromadb) (1.27.0)\n",
      "Requirement already satisfied: opentelemetry-proto==1.27.0 in h:\\anaconda3\\lib\\site-packages (from opentelemetry-exporter-otlp-proto-grpc>=1.2.0->chromadb) (1.27.0)\n",
      "Requirement already satisfied: opentelemetry-instrumentation-asgi==0.48b0 in h:\\anaconda3\\lib\\site-packages (from opentelemetry-instrumentation-fastapi>=0.41b0->chromadb) (0.48b0)\n",
      "Requirement already satisfied: opentelemetry-instrumentation==0.48b0 in h:\\anaconda3\\lib\\site-packages (from opentelemetry-instrumentation-fastapi>=0.41b0->chromadb) (0.48b0)\n",
      "Requirement already satisfied: opentelemetry-semantic-conventions==0.48b0 in h:\\anaconda3\\lib\\site-packages (from opentelemetry-instrumentation-fastapi>=0.41b0->chromadb) (0.48b0)\n",
      "Requirement already satisfied: opentelemetry-util-http==0.48b0 in h:\\anaconda3\\lib\\site-packages (from opentelemetry-instrumentation-fastapi>=0.41b0->chromadb) (0.48b0)\n",
      "Requirement already satisfied: setuptools>=16.0 in h:\\anaconda3\\lib\\site-packages (from opentelemetry-instrumentation==0.48b0->opentelemetry-instrumentation-fastapi>=0.41b0->chromadb) (75.1.0)\n",
      "Requirement already satisfied: wrapt<2.0.0,>=1.0.0 in h:\\anaconda3\\lib\\site-packages (from opentelemetry-instrumentation==0.48b0->opentelemetry-instrumentation-fastapi>=0.41b0->chromadb) (1.14.1)\n",
      "Requirement already satisfied: asgiref~=3.0 in h:\\anaconda3\\lib\\site-packages (from opentelemetry-instrumentation-asgi==0.48b0->opentelemetry-instrumentation-fastapi>=0.41b0->chromadb) (3.8.1)\n",
      "Requirement already satisfied: monotonic>=1.5 in h:\\anaconda3\\lib\\site-packages (from posthog>=2.4.0->chromadb) (1.6)\n",
      "Requirement already satisfied: backoff>=1.10.0 in h:\\anaconda3\\lib\\site-packages (from posthog>=2.4.0->chromadb) (2.2.1)\n",
      "Requirement already satisfied: annotated-types>=0.4.0 in h:\\anaconda3\\lib\\site-packages (from pydantic>=1.9->chromadb) (0.6.0)\n",
      "Requirement already satisfied: pydantic-core==2.20.1 in h:\\anaconda3\\lib\\site-packages (from pydantic>=1.9->chromadb) (2.20.1)\n",
      "Requirement already satisfied: markdown-it-py>=2.2.0 in h:\\anaconda3\\lib\\site-packages (from rich>=10.11.0->chromadb) (2.2.0)\n",
      "Requirement already satisfied: pygments<3.0.0,>=2.13.0 in h:\\anaconda3\\lib\\site-packages (from rich>=10.11.0->chromadb) (2.15.1)\n",
      "Requirement already satisfied: huggingface-hub<1.0,>=0.16.4 in h:\\anaconda3\\lib\\site-packages (from tokenizers>=0.13.2->chromadb) (0.26.1)\n",
      "Requirement already satisfied: click>=8.0.0 in h:\\anaconda3\\lib\\site-packages (from typer>=0.9.0->chromadb) (8.1.7)\n",
      "Requirement already satisfied: shellingham>=1.3.0 in h:\\anaconda3\\lib\\site-packages (from typer>=0.9.0->chromadb) (1.5.4)\n",
      "Requirement already satisfied: httptools>=0.5.0 in h:\\anaconda3\\lib\\site-packages (from uvicorn[standard]>=0.18.3->chromadb) (0.6.4)\n",
      "Requirement already satisfied: python-dotenv>=0.13 in h:\\anaconda3\\lib\\site-packages (from uvicorn[standard]>=0.18.3->chromadb) (0.21.0)\n",
      "Requirement already satisfied: watchfiles>=0.13 in h:\\anaconda3\\lib\\site-packages (from uvicorn[standard]>=0.18.3->chromadb) (0.24.0)\n",
      "Requirement already satisfied: websockets>=10.4 in h:\\anaconda3\\lib\\site-packages (from uvicorn[standard]>=0.18.3->chromadb) (13.1)\n",
      "Requirement already satisfied: cachetools<6.0,>=2.0.0 in h:\\anaconda3\\lib\\site-packages (from google-auth>=1.0.1->kubernetes>=28.1.0->chromadb) (5.3.3)\n",
      "Requirement already satisfied: pyasn1-modules>=0.2.1 in h:\\anaconda3\\lib\\site-packages (from google-auth>=1.0.1->kubernetes>=28.1.0->chromadb) (0.2.8)\n",
      "Requirement already satisfied: rsa<5,>=3.1.4 in h:\\anaconda3\\lib\\site-packages (from google-auth>=1.0.1->kubernetes>=28.1.0->chromadb) (4.9)\n",
      "Requirement already satisfied: filelock in h:\\anaconda3\\lib\\site-packages (from huggingface-hub<1.0,>=0.16.4->tokenizers>=0.13.2->chromadb) (3.13.1)\n",
      "Requirement already satisfied: fsspec>=2023.5.0 in h:\\anaconda3\\lib\\site-packages (from huggingface-hub<1.0,>=0.16.4->tokenizers>=0.13.2->chromadb) (2024.6.1)\n",
      "Requirement already satisfied: zipp>=0.5 in h:\\anaconda3\\lib\\site-packages (from importlib-metadata<=8.4.0,>=6.0->opentelemetry-api>=1.2.0->chromadb) (3.17.0)\n",
      "Requirement already satisfied: mdurl~=0.1 in h:\\anaconda3\\lib\\site-packages (from markdown-it-py>=2.2.0->rich>=10.11.0->chromadb) (0.1.0)\n",
      "Requirement already satisfied: charset-normalizer<4,>=2 in h:\\anaconda3\\lib\\site-packages (from requests->kubernetes>=28.1.0->chromadb) (2.0.4)\n",
      "Requirement already satisfied: exceptiongroup>=1.0.2 in h:\\anaconda3\\lib\\site-packages (from anyio->httpx>=0.27.0->chromadb) (1.2.0)\n",
      "Requirement already satisfied: humanfriendly>=9.1 in h:\\anaconda3\\lib\\site-packages (from coloredlogs->onnxruntime>=1.14.1->chromadb) (10.0)\n",
      "Requirement already satisfied: mpmath<1.4,>=1.1.0 in h:\\anaconda3\\lib\\site-packages (from sympy->onnxruntime>=1.14.1->chromadb) (1.3.0)\n",
      "Requirement already satisfied: pyreadline3 in h:\\anaconda3\\lib\\site-packages (from humanfriendly>=9.1->coloredlogs->onnxruntime>=1.14.1->chromadb) (3.5.4)\n",
      "Requirement already satisfied: pyasn1<0.5.0,>=0.4.6 in h:\\anaconda3\\lib\\site-packages (from pyasn1-modules>=0.2.1->google-auth>=1.0.1->kubernetes>=28.1.0->chromadb) (0.4.8)\n"
     ]
    },
    {
     "name": "stdout",
     "output_type": "stream",
     "text": [
      "Requirement already satisfied: pypdf in h:\\anaconda3\\lib\\site-packages (5.0.1)\n",
      "Requirement already satisfied: typing_extensions>=4.0 in h:\\anaconda3\\lib\\site-packages (from pypdf) (4.11.0)\n",
      "Requirement already satisfied: pytest in h:\\anaconda3\\lib\\site-packages (7.4.4)\n",
      "Requirement already satisfied: iniconfig in h:\\anaconda3\\lib\\site-packages (from pytest) (1.1.1)\n",
      "Requirement already satisfied: packaging in h:\\anaconda3\\lib\\site-packages (from pytest) (24.1)\n",
      "Requirement already satisfied: pluggy<2.0,>=0.12 in h:\\anaconda3\\lib\\site-packages (from pytest) (1.0.0)\n",
      "Requirement already satisfied: exceptiongroup>=1.0.0rc8 in h:\\anaconda3\\lib\\site-packages (from pytest) (1.2.0)\n",
      "Requirement already satisfied: tomli>=1.0.0 in h:\\anaconda3\\lib\\site-packages (from pytest) (2.0.1)\n",
      "Requirement already satisfied: colorama in h:\\anaconda3\\lib\\site-packages (from pytest) (0.4.6)\n"
     ]
    }
   ],
   "source": [
    "# install libraries\n",
    "# LLM library\n",
    "!pip install langchain\n",
    "# Vector storage\n",
    "!pip install chromadb\n",
    "# Loading PDFs\n",
    "!pip install pypdf\n",
    "# Unit testing\n",
    "!pip install pytest"
   ]
  },
  {
   "cell_type": "code",
   "execution_count": 2,
   "id": "45c7749d",
   "metadata": {},
   "outputs": [
    {
     "name": "stdout",
     "output_type": "stream",
     "text": [
      "Requirement already satisfied: sentence_transformers in h:\\anaconda3\\lib\\site-packages (3.2.1)\n",
      "Requirement already satisfied: transformers<5.0.0,>=4.41.0 in h:\\anaconda3\\lib\\site-packages (from sentence_transformers) (4.45.2)\n",
      "Requirement already satisfied: tqdm in h:\\anaconda3\\lib\\site-packages (from sentence_transformers) (4.66.5)\n",
      "Requirement already satisfied: torch>=1.11.0 in h:\\anaconda3\\lib\\site-packages (from sentence_transformers) (2.5.0)\n",
      "Requirement already satisfied: scikit-learn in h:\\anaconda3\\lib\\site-packages (from sentence_transformers) (1.5.1)\n",
      "Requirement already satisfied: scipy in h:\\anaconda3\\lib\\site-packages (from sentence_transformers) (1.13.1)\n",
      "Requirement already satisfied: huggingface-hub>=0.20.0 in h:\\anaconda3\\lib\\site-packages (from sentence_transformers) (0.26.1)\n",
      "Requirement already satisfied: Pillow in h:\\anaconda3\\lib\\site-packages (from sentence_transformers) (10.4.0)\n",
      "Requirement already satisfied: filelock in h:\\anaconda3\\lib\\site-packages (from huggingface-hub>=0.20.0->sentence_transformers) (3.13.1)\n",
      "Requirement already satisfied: fsspec>=2023.5.0 in h:\\anaconda3\\lib\\site-packages (from huggingface-hub>=0.20.0->sentence_transformers) (2024.6.1)\n",
      "Requirement already satisfied: packaging>=20.9 in h:\\anaconda3\\lib\\site-packages (from huggingface-hub>=0.20.0->sentence_transformers) (24.1)\n",
      "Requirement already satisfied: pyyaml>=5.1 in h:\\anaconda3\\lib\\site-packages (from huggingface-hub>=0.20.0->sentence_transformers) (6.0.1)\n",
      "Requirement already satisfied: requests in h:\\anaconda3\\lib\\site-packages (from huggingface-hub>=0.20.0->sentence_transformers) (2.32.3)\n",
      "Requirement already satisfied: typing-extensions>=3.7.4.3 in h:\\anaconda3\\lib\\site-packages (from huggingface-hub>=0.20.0->sentence_transformers) (4.11.0)\n",
      "Requirement already satisfied: networkx in h:\\anaconda3\\lib\\site-packages (from torch>=1.11.0->sentence_transformers) (3.3)\n",
      "Requirement already satisfied: jinja2 in h:\\anaconda3\\lib\\site-packages (from torch>=1.11.0->sentence_transformers) (3.1.4)\n",
      "Requirement already satisfied: sympy==1.13.1 in h:\\anaconda3\\lib\\site-packages (from torch>=1.11.0->sentence_transformers) (1.13.1)\n",
      "Requirement already satisfied: mpmath<1.4,>=1.1.0 in h:\\anaconda3\\lib\\site-packages (from sympy==1.13.1->torch>=1.11.0->sentence_transformers) (1.3.0)\n",
      "Requirement already satisfied: colorama in h:\\anaconda3\\lib\\site-packages (from tqdm->sentence_transformers) (0.4.6)\n",
      "Requirement already satisfied: numpy>=1.17 in h:\\anaconda3\\lib\\site-packages (from transformers<5.0.0,>=4.41.0->sentence_transformers) (1.26.4)\n",
      "Requirement already satisfied: regex!=2019.12.17 in h:\\anaconda3\\lib\\site-packages (from transformers<5.0.0,>=4.41.0->sentence_transformers) (2024.9.11)\n",
      "Requirement already satisfied: safetensors>=0.4.1 in h:\\anaconda3\\lib\\site-packages (from transformers<5.0.0,>=4.41.0->sentence_transformers) (0.4.5)\n",
      "Requirement already satisfied: tokenizers<0.21,>=0.20 in h:\\anaconda3\\lib\\site-packages (from transformers<5.0.0,>=4.41.0->sentence_transformers) (0.20.1)\n",
      "Requirement already satisfied: joblib>=1.2.0 in h:\\anaconda3\\lib\\site-packages (from scikit-learn->sentence_transformers) (1.4.2)\n",
      "Requirement already satisfied: threadpoolctl>=3.1.0 in h:\\anaconda3\\lib\\site-packages (from scikit-learn->sentence_transformers) (3.5.0)\n",
      "Requirement already satisfied: MarkupSafe>=2.0 in h:\\anaconda3\\lib\\site-packages (from jinja2->torch>=1.11.0->sentence_transformers) (2.1.3)\n",
      "Requirement already satisfied: charset-normalizer<4,>=2 in h:\\anaconda3\\lib\\site-packages (from requests->huggingface-hub>=0.20.0->sentence_transformers) (2.0.4)\n",
      "Requirement already satisfied: idna<4,>=2.5 in h:\\anaconda3\\lib\\site-packages (from requests->huggingface-hub>=0.20.0->sentence_transformers) (3.7)\n",
      "Requirement already satisfied: urllib3<3,>=1.21.1 in h:\\anaconda3\\lib\\site-packages (from requests->huggingface-hub>=0.20.0->sentence_transformers) (2.2.2)\n",
      "Requirement already satisfied: certifi>=2017.4.17 in h:\\anaconda3\\lib\\site-packages (from requests->huggingface-hub>=0.20.0->sentence_transformers) (2024.8.30)\n"
     ]
    }
   ],
   "source": [
    "!pip install sentence_transformers"
   ]
  },
  {
   "cell_type": "code",
   "execution_count": 3,
   "id": "4bd61223",
   "metadata": {},
   "outputs": [
    {
     "name": "stdout",
     "output_type": "stream",
     "text": [
      "Requirement already satisfied: langchain-huggingface in h:\\anaconda3\\lib\\site-packages (0.1.0)\n",
      "Requirement already satisfied: huggingface-hub>=0.23.0 in h:\\anaconda3\\lib\\site-packages (from langchain-huggingface) (0.26.1)\n",
      "Requirement already satisfied: langchain-core<0.4,>=0.3.0 in h:\\anaconda3\\lib\\site-packages (from langchain-huggingface) (0.3.12)\n",
      "Requirement already satisfied: sentence-transformers>=2.6.0 in h:\\anaconda3\\lib\\site-packages (from langchain-huggingface) (3.2.1)\n",
      "Requirement already satisfied: tokenizers>=0.19.1 in h:\\anaconda3\\lib\\site-packages (from langchain-huggingface) (0.20.1)\n",
      "Requirement already satisfied: transformers>=4.39.0 in h:\\anaconda3\\lib\\site-packages (from langchain-huggingface) (4.45.2)\n",
      "Requirement already satisfied: filelock in h:\\anaconda3\\lib\\site-packages (from huggingface-hub>=0.23.0->langchain-huggingface) (3.13.1)\n",
      "Requirement already satisfied: fsspec>=2023.5.0 in h:\\anaconda3\\lib\\site-packages (from huggingface-hub>=0.23.0->langchain-huggingface) (2024.6.1)\n",
      "Requirement already satisfied: packaging>=20.9 in h:\\anaconda3\\lib\\site-packages (from huggingface-hub>=0.23.0->langchain-huggingface) (24.1)\n",
      "Requirement already satisfied: pyyaml>=5.1 in h:\\anaconda3\\lib\\site-packages (from huggingface-hub>=0.23.0->langchain-huggingface) (6.0.1)\n",
      "Requirement already satisfied: requests in h:\\anaconda3\\lib\\site-packages (from huggingface-hub>=0.23.0->langchain-huggingface) (2.32.3)\n",
      "Requirement already satisfied: tqdm>=4.42.1 in h:\\anaconda3\\lib\\site-packages (from huggingface-hub>=0.23.0->langchain-huggingface) (4.66.5)\n",
      "Requirement already satisfied: typing-extensions>=3.7.4.3 in h:\\anaconda3\\lib\\site-packages (from huggingface-hub>=0.23.0->langchain-huggingface) (4.11.0)\n",
      "Requirement already satisfied: jsonpatch<2.0,>=1.33 in h:\\anaconda3\\lib\\site-packages (from langchain-core<0.4,>=0.3.0->langchain-huggingface) (1.33)\n",
      "Requirement already satisfied: langsmith<0.2.0,>=0.1.125 in h:\\anaconda3\\lib\\site-packages (from langchain-core<0.4,>=0.3.0->langchain-huggingface) (0.1.137)\n",
      "Requirement already satisfied: pydantic<3.0.0,>=2.5.2 in h:\\anaconda3\\lib\\site-packages (from langchain-core<0.4,>=0.3.0->langchain-huggingface) (2.8.2)\n",
      "Requirement already satisfied: tenacity!=8.4.0,<10.0.0,>=8.1.0 in h:\\anaconda3\\lib\\site-packages (from langchain-core<0.4,>=0.3.0->langchain-huggingface) (8.2.3)\n",
      "Requirement already satisfied: torch>=1.11.0 in h:\\anaconda3\\lib\\site-packages (from sentence-transformers>=2.6.0->langchain-huggingface) (2.5.0)\n",
      "Requirement already satisfied: scikit-learn in h:\\anaconda3\\lib\\site-packages (from sentence-transformers>=2.6.0->langchain-huggingface) (1.5.1)\n",
      "Requirement already satisfied: scipy in h:\\anaconda3\\lib\\site-packages (from sentence-transformers>=2.6.0->langchain-huggingface) (1.13.1)\n",
      "Requirement already satisfied: Pillow in h:\\anaconda3\\lib\\site-packages (from sentence-transformers>=2.6.0->langchain-huggingface) (10.4.0)\n",
      "Requirement already satisfied: numpy>=1.17 in h:\\anaconda3\\lib\\site-packages (from transformers>=4.39.0->langchain-huggingface) (1.26.4)\n",
      "Requirement already satisfied: regex!=2019.12.17 in h:\\anaconda3\\lib\\site-packages (from transformers>=4.39.0->langchain-huggingface) (2024.9.11)\n",
      "Requirement already satisfied: safetensors>=0.4.1 in h:\\anaconda3\\lib\\site-packages (from transformers>=4.39.0->langchain-huggingface) (0.4.5)\n",
      "Requirement already satisfied: jsonpointer>=1.9 in h:\\anaconda3\\lib\\site-packages (from jsonpatch<2.0,>=1.33->langchain-core<0.4,>=0.3.0->langchain-huggingface) (2.1)\n",
      "Requirement already satisfied: httpx<1,>=0.23.0 in h:\\anaconda3\\lib\\site-packages (from langsmith<0.2.0,>=0.1.125->langchain-core<0.4,>=0.3.0->langchain-huggingface) (0.27.0)\n",
      "Requirement already satisfied: orjson<4.0.0,>=3.9.14 in h:\\anaconda3\\lib\\site-packages (from langsmith<0.2.0,>=0.1.125->langchain-core<0.4,>=0.3.0->langchain-huggingface) (3.10.10)\n",
      "Requirement already satisfied: requests-toolbelt<2.0.0,>=1.0.0 in h:\\anaconda3\\lib\\site-packages (from langsmith<0.2.0,>=0.1.125->langchain-core<0.4,>=0.3.0->langchain-huggingface) (1.0.0)\n",
      "Requirement already satisfied: annotated-types>=0.4.0 in h:\\anaconda3\\lib\\site-packages (from pydantic<3.0.0,>=2.5.2->langchain-core<0.4,>=0.3.0->langchain-huggingface) (0.6.0)\n",
      "Requirement already satisfied: pydantic-core==2.20.1 in h:\\anaconda3\\lib\\site-packages (from pydantic<3.0.0,>=2.5.2->langchain-core<0.4,>=0.3.0->langchain-huggingface) (2.20.1)\n",
      "Requirement already satisfied: charset-normalizer<4,>=2 in h:\\anaconda3\\lib\\site-packages (from requests->huggingface-hub>=0.23.0->langchain-huggingface) (2.0.4)\n",
      "Requirement already satisfied: idna<4,>=2.5 in h:\\anaconda3\\lib\\site-packages (from requests->huggingface-hub>=0.23.0->langchain-huggingface) (3.7)\n",
      "Requirement already satisfied: urllib3<3,>=1.21.1 in h:\\anaconda3\\lib\\site-packages (from requests->huggingface-hub>=0.23.0->langchain-huggingface) (2.2.2)\n",
      "Requirement already satisfied: certifi>=2017.4.17 in h:\\anaconda3\\lib\\site-packages (from requests->huggingface-hub>=0.23.0->langchain-huggingface) (2024.8.30)\n",
      "Requirement already satisfied: networkx in h:\\anaconda3\\lib\\site-packages (from torch>=1.11.0->sentence-transformers>=2.6.0->langchain-huggingface) (3.3)\n",
      "Requirement already satisfied: jinja2 in h:\\anaconda3\\lib\\site-packages (from torch>=1.11.0->sentence-transformers>=2.6.0->langchain-huggingface) (3.1.4)\n",
      "Requirement already satisfied: sympy==1.13.1 in h:\\anaconda3\\lib\\site-packages (from torch>=1.11.0->sentence-transformers>=2.6.0->langchain-huggingface) (1.13.1)\n",
      "Requirement already satisfied: mpmath<1.4,>=1.1.0 in h:\\anaconda3\\lib\\site-packages (from sympy==1.13.1->torch>=1.11.0->sentence-transformers>=2.6.0->langchain-huggingface) (1.3.0)\n",
      "Requirement already satisfied: colorama in h:\\anaconda3\\lib\\site-packages (from tqdm>=4.42.1->huggingface-hub>=0.23.0->langchain-huggingface) (0.4.6)\n",
      "Requirement already satisfied: joblib>=1.2.0 in h:\\anaconda3\\lib\\site-packages (from scikit-learn->sentence-transformers>=2.6.0->langchain-huggingface) (1.4.2)\n",
      "Requirement already satisfied: threadpoolctl>=3.1.0 in h:\\anaconda3\\lib\\site-packages (from scikit-learn->sentence-transformers>=2.6.0->langchain-huggingface) (3.5.0)\n",
      "Requirement already satisfied: anyio in h:\\anaconda3\\lib\\site-packages (from httpx<1,>=0.23.0->langsmith<0.2.0,>=0.1.125->langchain-core<0.4,>=0.3.0->langchain-huggingface) (4.2.0)\n",
      "Requirement already satisfied: httpcore==1.* in h:\\anaconda3\\lib\\site-packages (from httpx<1,>=0.23.0->langsmith<0.2.0,>=0.1.125->langchain-core<0.4,>=0.3.0->langchain-huggingface) (1.0.2)\n",
      "Requirement already satisfied: sniffio in h:\\anaconda3\\lib\\site-packages (from httpx<1,>=0.23.0->langsmith<0.2.0,>=0.1.125->langchain-core<0.4,>=0.3.0->langchain-huggingface) (1.3.0)\n",
      "Requirement already satisfied: h11<0.15,>=0.13 in h:\\anaconda3\\lib\\site-packages (from httpcore==1.*->httpx<1,>=0.23.0->langsmith<0.2.0,>=0.1.125->langchain-core<0.4,>=0.3.0->langchain-huggingface) (0.14.0)\n",
      "Requirement already satisfied: MarkupSafe>=2.0 in h:\\anaconda3\\lib\\site-packages (from jinja2->torch>=1.11.0->sentence-transformers>=2.6.0->langchain-huggingface) (2.1.3)\n",
      "Requirement already satisfied: exceptiongroup>=1.0.2 in h:\\anaconda3\\lib\\site-packages (from anyio->httpx<1,>=0.23.0->langsmith<0.2.0,>=0.1.125->langchain-core<0.4,>=0.3.0->langchain-huggingface) (1.2.0)\n"
     ]
    }
   ],
   "source": [
    "!pip install -U langchain-huggingface"
   ]
  },
  {
   "cell_type": "code",
   "execution_count": 4,
   "id": "e93cfed2",
   "metadata": {},
   "outputs": [],
   "source": [
    "# Reader\n",
    "from langchain.document_loaders.pdf import PyPDFDirectoryLoader\n",
    "from langchain_text_splitters import RecursiveCharacterTextSplitter\n",
    "from langchain.schema.document import Document\n",
    "\n",
    "# Chroma\n",
    "from langchain.vectorstores.chroma import Chroma"
   ]
  },
  {
   "cell_type": "code",
   "execution_count": 47,
   "id": "6e9f6fc2",
   "metadata": {},
   "outputs": [],
   "source": [
    "from sentence_transformers import SentenceTransformer\n",
    "from langchain.embeddings import HuggingFaceEmbeddings\n",
    "\n",
    "from transformers import pipeline, AutoTokenizer"
   ]
  },
  {
   "cell_type": "code",
   "execution_count": 6,
   "id": "793bd03a",
   "metadata": {},
   "outputs": [],
   "source": [
    "# Set data path\n",
    "DATA_PATH = \"data\"\n",
    "\n",
    "# Set Chroma path\n",
    "CHROMA_PATH = \"chroma\""
   ]
  },
  {
   "cell_type": "markdown",
   "id": "439d2bbb",
   "metadata": {},
   "source": [
    "## Creating PDF Library"
   ]
  },
  {
   "cell_type": "code",
   "execution_count": 7,
   "id": "dbdd3338",
   "metadata": {},
   "outputs": [
    {
     "name": "stderr",
     "output_type": "stream",
     "text": [
      "Ignoring wrong pointing object 14 0 (offset 0)\n",
      "Ignoring wrong pointing object 39 0 (offset 0)\n",
      "Ignoring wrong pointing object 42 0 (offset 0)\n",
      "Ignoring wrong pointing object 3204 0 (offset 0)\n"
     ]
    }
   ],
   "source": [
    "# Load documents\n",
    "document_loader = PyPDFDirectoryLoader(DATA_PATH)\n",
    "documents = document_loader.load()"
   ]
  },
  {
   "cell_type": "markdown",
   "id": "a33cc4ed",
   "metadata": {},
   "source": [
    "Once the data is loaded, we will use a text splitter to split the text documents into the fixed size of chunks to store them in the vector database. LangChain offers multiple text splitters such as split by character, split by code, etc."
   ]
  },
  {
   "cell_type": "code",
   "execution_count": 8,
   "id": "e52a6bf2",
   "metadata": {},
   "outputs": [],
   "source": [
    "# Split documents into chunks\n",
    "text_splitter = RecursiveCharacterTextSplitter(\n",
    "    chunk_size=800,\n",
    "    chunk_overlap=80,\n",
    "    length_function=len,\n",
    "    is_separator_regex=False,\n",
    ")\n",
    "\n",
    "chunks = text_splitter.split_documents(documents)"
   ]
  },
  {
   "cell_type": "code",
   "execution_count": 9,
   "id": "dc3adb96",
   "metadata": {},
   "outputs": [
    {
     "data": {
      "text/plain": [
       "Document(metadata={'source': 'data\\\\Stardew Cookbook.pdf', 'page': 0}, page_content='Cookbook')"
      ]
     },
     "execution_count": 9,
     "metadata": {},
     "output_type": "execute_result"
    }
   ],
   "source": [
    "# Print to check that content of documents is available\n",
    "chunks[0]"
   ]
  },
  {
   "cell_type": "code",
   "execution_count": 10,
   "id": "4c18f771",
   "metadata": {},
   "outputs": [],
   "source": [
    "# Define the model name\n",
    "model_name = \"sentence-transformers/all-MiniLM-L6-v2\"\n",
    "\n",
    "# Load the model and save it locally\n",
    "model = SentenceTransformer(model_name)\n",
    "\n",
    "# Define where to save the model\n",
    "model.save(\"model\")"
   ]
  },
  {
   "cell_type": "code",
   "execution_count": 11,
   "id": "b1808b6c",
   "metadata": {},
   "outputs": [],
   "source": [
    "# Declare embeddings\n",
    "from langchain_huggingface import HuggingFaceEmbeddings\n",
    "\n",
    "# Define local path where model is saved\n",
    "local_model_path = \"model\"\n",
    "\n",
    "# declare HuggingFace embeddings using MiniLM\n",
    "embeddings = HuggingFaceEmbeddings(model_name = model_name)"
   ]
  },
  {
   "cell_type": "code",
   "execution_count": 12,
   "id": "3f61004d",
   "metadata": {},
   "outputs": [],
   "source": [
    "def calculate_chunk_ids(chunks):\n",
    "    \"\"\"\n",
    "    Method that take in a chunk and create IDs\n",
    "    like \"data/sample.pdf:6:2\"\n",
    "    in the order of Page Source : Page Number : Chunk Index\n",
    "    and return back chunks with appended id\n",
    "    \"\"\"\n",
    "    last_page_id = None\n",
    "    current_chunk_index = 0\n",
    "    \n",
    "    for chunk in chunks:\n",
    "        source = chunk.metadata.get(\"source\")\n",
    "        page = chunk.metadata.get(\"page\")\n",
    "        current_page_id = f\"{source}:{page}\"\n",
    "            \n",
    "        # If the page ID is the same as the last one, increment the index\n",
    "        if current_page_id == last_page_id:\n",
    "            current_chunk_index +=1\n",
    "        else:\n",
    "            current_chunk_index = 0\n",
    "        \n",
    "        # Calculate the chunk ID\n",
    "        chunk_id = f\"{current_page_id}:{current_chunk_index}\"\n",
    "        last_page_id = current_page_id\n",
    "        \n",
    "        # Add it to the page meta-data\n",
    "        chunk.metadata[\"id\"] = chunk_id\n",
    "    \n",
    "    return chunks"
   ]
  },
  {
   "cell_type": "code",
   "execution_count": 13,
   "id": "e240bb35",
   "metadata": {},
   "outputs": [
    {
     "name": "stderr",
     "output_type": "stream",
     "text": [
      "C:\\Users\\Ning\\AppData\\Local\\Temp\\ipykernel_30236\\2711110819.py:3: LangChainDeprecationWarning: The class `Chroma` was deprecated in LangChain 0.2.9 and will be removed in 1.0. An updated version of the class exists in the :class:`~langchain-chroma package and should be used instead. To use it run `pip install -U :class:`~langchain-chroma` and import as `from :class:`~langchain_chroma import Chroma``.\n",
      "  chroma_db = Chroma(persist_directory = CHROMA_PATH, embedding_function=embeddings)\n"
     ]
    },
    {
     "name": "stdout",
     "output_type": "stream",
     "text": [
      "Number of existing documents in DB: 1439\n",
      "No new documents to add\n"
     ]
    }
   ],
   "source": [
    "# Add to chroma\n",
    "# Load the existing database\n",
    "chroma_db = Chroma(persist_directory = CHROMA_PATH, embedding_function=embeddings)\n",
    "\n",
    "# Calculate Page IDs\n",
    "chunks_with_ids = calculate_chunk_ids(chunks)\n",
    "\n",
    "# Add or update the documents\n",
    "existing_items = chroma_db.get(include=[]) # IDs are always included by default\n",
    "existing_ids = set(existing_items[\"ids\"])\n",
    "print(f\"Number of existing documents in DB: {len(existing_ids)}\")\n",
    "\n",
    "# Only add documents that don't exist in the DB\n",
    "new_chunks = []\n",
    "for chunk in chunks_with_ids:\n",
    "    if chunk.metadata[\"id\"] not in existing_ids:\n",
    "        new_chunks.append(chunk)\n",
    "\n",
    "if len(new_chunks):\n",
    "    print(f\"Adding new documents: {len(new_chunks)}\")\n",
    "    new_chunk_ids = [chunk.metadata[\"id\"] for chunk in new_chunks]\n",
    "    chroma_db.add_documents(new_chunks, ids=new_chunk_ids)\n",
    "    chroma_db.persist()\n",
    "else:\n",
    "    print(\"No new documents to add\")"
   ]
  },
  {
   "cell_type": "markdown",
   "id": "32f4bc89",
   "metadata": {},
   "source": [
    "## Retrieval of Prompt"
   ]
  },
  {
   "cell_type": "code",
   "execution_count": 14,
   "id": "3ac8041d",
   "metadata": {},
   "outputs": [],
   "source": [
    "# Set up Prompt Template\n",
    "PROMPT_TEMPLATE = \"\"\"\n",
    "Answer the question based only on the following context:\n",
    "\n",
    "{context}\n",
    "\n",
    "---\n",
    "\n",
    "Answer the question based on the above context: {question}\n",
    "\"\"\""
   ]
  },
  {
   "cell_type": "code",
   "execution_count": 20,
   "id": "19c1b676",
   "metadata": {},
   "outputs": [],
   "source": [
    "from langchain.prompts import ChatPromptTemplate\n",
    "\n",
    "# Example query\n",
    "query_text = \"What is the recipe for Fish Tacos?\"\n",
    "\n",
    "# Search the DB for the most relevant chunks (based on embeddings)\n",
    "# Find the top 5 results based on the similarity\n",
    "results = chroma_db.similarity_search_with_score(query_text, k=5)\n",
    "\n",
    "# Create the context for the search results\n",
    "context_text = \"\\n\\n---\\n\\n\".join([doc.page_content for doc, _score in results])"
   ]
  },
  {
   "cell_type": "code",
   "execution_count": 16,
   "id": "715ec226",
   "metadata": {},
   "outputs": [
    {
     "name": "stdout",
     "output_type": "stream",
     "text": [
      "Human: \n",
      "Answer the question based only on the following context:\n",
      "\n",
      "74 \n",
      " Recipe: Fish Tacos  \n",
      " \n",
      "Description: It smells delicious.  \n",
      "Game ingredients: Tuna, Tortilla, Red Cabbage, Mayonnaise  \n",
      "This recipe restores 165 energy and 66 health. It can be obtained from Linus after achieving 7 hearts and \n",
      "it gives a +2 Fishing bonus. It sells for 500g.  \n",
      "Difficulty: Medium, 1 hour. Makes 4 tacos.   \n",
      "This recipe uses Tortilla.  It’s optional, you can use store -bought instead to decrease the total time from 1 \n",
      "hour to 4 0 minutes. You can also use the breading recipe from Crispy Bass  for the fish in this recipe, or \n",
      "you can bake it as explained below.   \n",
      "-4 tortillas   \n",
      "-¼ small red cabbage  \n",
      "-1 large fish fillet, thawed   \n",
      "-1 large carrot  \n",
      "-1 green onion  \n",
      "-¼ small red onion  \n",
      "-½ small tomato\n",
      "\n",
      "---\n",
      "\n",
      "75 \n",
      " Thinly slice the cab bage, julienne the carrot (cut the carrot on an angle and then slice them thinly as \n",
      "shown below), and then finely chop the green onion, red onion, and the tomato. Combine all the \n",
      "vegetables in a medium bowl. Add the cumin, garlic powder, chili powder, must ard powder, dried mint, \n",
      "and a dash of salt. Mix well.  \n",
      " \n",
      " \n",
      " \n",
      "Cook the tortillas on a hot pan and transfer them to a plate once they’re done. When the fish finishes \n",
      "cooking, let it cool for 5 minutes and then cut it into four equal pieces.   \n",
      "Arrange the fish o n the tortillas and spoon on some mayonnaise. Top with the vegetable mixture and then \n",
      "garnish with cilantro leaves. Pour on your favourite hot sauce or dab different types on the plate for varied \n",
      "flavours.\n",
      "\n",
      "---\n",
      "\n",
      "71 \n",
      " Recipe: Fish Stew  \n",
      " \n",
      "Description: It smells a lot like the sea. Tastes better, though.   \n",
      "Game ingredients: Crayfish, Mussel, Periwinkle, Tomato  \n",
      "This recipe restores 225 energy and 101 health. It offers a +3 Fishing bonus and can be obtained from \n",
      "Willy after reaching 7 hearts. It sells for 175g.  \n",
      "Difficulty: Easy, 35 minutes. Serves 4.   \n",
      "This recipe is fairly similar to Trout Soup, but chunkier and with some different flavours.   \n",
      "-2 tablesp oons butter  \n",
      "-1 large onion  \n",
      "-1 clove garlic  \n",
      "-2 leeks  \n",
      "-1 stalk celery  \n",
      "-1 green pepper  \n",
      "-1 cup of diced tomatoes (canned or fresh)  \n",
      "-1 ½ cups vegetable broth  \n",
      "-2 potatoes  \n",
      "-2 carrots  \n",
      "-1 lb (454g) fish fillets, thawed  \n",
      "-Salt, pepper, thyme, and basil, to taste (I u sed about 2 teaspoons of each)\n",
      "\n",
      "---\n",
      "\n",
      "-1 large carrot  \n",
      "-1 green onion  \n",
      "-¼ small red onion  \n",
      "-½ small tomato  \n",
      "-½ teaspoon of each spice/herb: cumin, ground coriander, salt, pepper, garlic powder,  dried mint.   \n",
      "-¼ teaspoon chili powder  \n",
      "-1 teaspoon mustard powder  \n",
      "-¼ teaspoon paprika  \n",
      "-Cilantro leaves  \n",
      "-Mayonnaise  \n",
      "-Hot sauce(s) such as tabasco, chipotle hot sauce, cholula, etc  \n",
      "If you’re making the tortillas from scratch, start off by preparing those as detailed in the recipe. Stop after \n",
      "you’ve rolled or pressed them flat, and leave them off to the side to be cooked later. In the mean time, \n",
      "prepare the fish. Follow the instructions for b readed fish using Crispy Bass.  \n",
      "Season the fish with the ground coriand er, salt, pepper, and paprika. I cooked the fish on medium -low on\n",
      "\n",
      "---\n",
      "\n",
      "Difficulty:2 servings 15 minDefinitely Not Bar Food!Definitely Not Bar Food!\n",
      "10-15 min\n",
      "Chef: Tempest      Contains: Seafood\n",
      "Tempest\n",
      " Catweeeni\n",
      "• large bowl or dish\n",
      "• small pot\n",
      "• oven or grill plate\n",
      "• skewers (6-8)\n",
      "• small torch (optional)\n",
      "• Decorative veggie cutters \n",
      "(optional)Tools and UtensilsTools and UtensilsIngredientsIngredients\n",
      "• salmon with skin (2 filets (roughly 0.7lb; Cut into large \n",
      "bite size pieces)\n",
      "• fish balls (8-9 frozen is ok)\n",
      "• large carrot (½ a carrot is enough, only need a few slices)\n",
      "• half a yellow onion\n",
      "• cooking oil\n",
      "• Coarse sea salt (roughly 1/2 tsp)\n",
      "• black garlic (dry, ground/crushed or flakes)\n",
      "• mushroom seasoning (powder)\n",
      "• black pepper\n",
      "• fried chili oil (lao gan ma is good)“Diona’s specialty. The fish skin is crisp, and the meat is sumptuous.\n",
      "\n",
      "---\n",
      "\n",
      "Answer the question based on the above context: What is the recipe for Fish Tacos?\n",
      "\n"
     ]
    }
   ],
   "source": [
    "# Load the template for the prompt\n",
    "prompt_template = ChatPromptTemplate.from_template(PROMPT_TEMPLATE)\n",
    "prompt = prompt_template.format(context=context_text, question=query_text)\n",
    "print(prompt)"
   ]
  },
  {
   "cell_type": "markdown",
   "id": "701440d8",
   "metadata": {},
   "source": [
    "## Generate Response with Mistral"
   ]
  },
  {
   "cell_type": "code",
   "execution_count": 17,
   "id": "b6a63124",
   "metadata": {},
   "outputs": [
    {
     "name": "stderr",
     "output_type": "stream",
     "text": [
      "C:\\Users\\Ning\\AppData\\Local\\Temp\\ipykernel_30236\\546541860.py:3: LangChainDeprecationWarning: The class `Ollama` was deprecated in LangChain 0.3.1 and will be removed in 1.0.0. An updated version of the class exists in the :class:`~langchain-ollama package and should be used instead. To use it run `pip install -U :class:`~langchain-ollama` and import as `from :class:`~langchain_ollama import OllamaLLM``.\n",
      "  model = Ollama(model=\"mistral\")\n"
     ]
    },
    {
     "name": "stdout",
     "output_type": "stream",
     "text": [
      "Response:  The recipe for Fish Tacos, as provided in the context, consists of the following steps:\n",
      "\n",
      "1. Thinly slice a quarter of small red cabbage and julienne one large carrot. Finely chop one green onion, one-fourth of a small red onion, and half of a small tomato. Combine all the vegetables in a medium bowl. Add cumin, garlic powder, chili powder, mustard powder, dried mint, and a dash of salt. Mix well.\n",
      "\n",
      "2. Cook four tortillas on a hot pan and transfer them to a plate once they’re done.\n",
      "\n",
      "3. Prepare one large fish fillet, thawed. When the fish finishes cooking, let it cool for 5 minutes and then cut it into four equal pieces.\n",
      "\n",
      "4. Arrange the fish on the tortillas and spoon on some mayonnaise. Top with the vegetable mixture and then garnish with cilantro leaves. Pour on your favorite hot sauce or dab different types on the plate for varied flavors.\n",
      "Sources: ['data\\\\Stardew Cookbook.pdf:73:0', 'data\\\\Stardew Cookbook.pdf:74:0', 'data\\\\Stardew Cookbook.pdf:70:0', 'data\\\\Stardew Cookbook.pdf:73:1', 'data\\\\Teyvat Eats Fanzine.pdf:19:0']\n"
     ]
    }
   ],
   "source": [
    "from langchain_community.llms.ollama import Ollama\n",
    "\n",
    "model = Ollama(model=\"mistral\")\n",
    "response_text = model.invoke(prompt)\n",
    "\n",
    "sources = [doc.metadata.get(\"id\", None) for doc, _score in results]\n",
    "formatted_response = f\"Response: {response_text}\\nSources: {sources}\"\n",
    "print(formatted_response)"
   ]
  },
  {
   "cell_type": "markdown",
   "id": "fe8e6cc4",
   "metadata": {},
   "source": [
    "## Add more to Database from online articles"
   ]
  },
  {
   "cell_type": "code",
   "execution_count": 25,
   "id": "ec721778",
   "metadata": {},
   "outputs": [
    {
     "name": "stderr",
     "output_type": "stream",
     "text": [
      "USER_AGENT environment variable not set, consider setting it to identify your requests.\n"
     ]
    }
   ],
   "source": [
    "from langchain.document_loaders import AsyncChromiumLoader\n",
    "from langchain.document_transformers import Html2TextTransformer\n",
    "from langchain.vectorstores import FAISS\n",
    "import nest_asyncio\n",
    "\n",
    "nest_asyncio.apply()\n",
    "\n",
    "articles = [\"http://www.geekychef.com/2020/04/beer-potage.html\",\n",
    "           \"http://www.geekychef.com/2020/01/date-palm-cocktail.html\",\n",
    "           \"http://www.geekychef.com/2014/03/hot-spiced-wine.html\",\n",
    "           \"http://www.geekychef.com/2008/12/laura-moons-chili.html\",\n",
    "           \"http://www.geekychef.com/2008/12/butterbeer.html\",\n",
    "           \"http://www.geekychef.com/2013/10/five-flavor-soup.html\",\n",
    "           \"https://www.geekychef.com/2023/02/steak-sandwich.html\"]\n",
    "\n",
    "# Scrapes the blog posts above\n",
    "loader = AsyncChromiumLoader(articles)\n",
    "docs = loader.load()"
   ]
  },
  {
   "cell_type": "code",
   "execution_count": 31,
   "id": "9944f5eb",
   "metadata": {},
   "outputs": [],
   "source": [
    "from langchain_community.document_transformers import BeautifulSoupTransformer\n",
    "\n",
    "# Transform the loaded HTML using BeautifulSoupTransformer\n",
    "bs_transformer = BeautifulSoupTransformer()\n",
    "docs_transformed = bs_transformer.transform_documents(docs, tags_to_extract=[\"h1\", \"p\"])\n",
    "\n",
    "# Converts HTML to plain text\n",
    "# html2text = Html2TextTransformer()\n",
    "# docs_transformed = html2text.transform_documents(docs)\n",
    "\n",
    "# # Chunk text\n",
    "new_documents = text_splitter.split_documents(docs_transformed)"
   ]
  },
  {
   "cell_type": "code",
   "execution_count": 32,
   "id": "39c06a5c",
   "metadata": {},
   "outputs": [
    {
     "name": "stdout",
     "output_type": "stream",
     "text": [
      "page_content='Beer Potage In The Blood of Elves, Ciri and Triss are enjoying dinner at Kaer Morhen, dinner being \"beer potage, thick with cheese and croutons.\" Potage is a French word, meaning a thick and creamy soup. Initially, I was thinking this was along the lines of German beer and cheddar soup, but apparently Polish beer soup is a little different. It's heavier and sweet, almost like a smooth porridge. It's very filling. I recommend using Żywiec Porter, a wonderful Polish import, but any full bodied dark beer will do.  So sit down, toss a coin to your Witcher, and eat some hearty beer potage.   Ingredients  For the Rye Croutons:  For the soup:  Directions   To make the rye croutons:  For the soup: Ta zupa jest absolutnie pyszna!' metadata={'source': 'http://www.geekychef.com/2020/04/beer-potage.html'}\n"
     ]
    }
   ],
   "source": [
    "# print chunk\n",
    "print(new_documents[0])"
   ]
  },
  {
   "cell_type": "code",
   "execution_count": 38,
   "id": "ae1d08c0",
   "metadata": {},
   "outputs": [],
   "source": [
    "def calculate_web_chunk(chunks):\n",
    "    \"\"\"\n",
    "    Method that take in a URL chunk and create IDs\n",
    "    like \"source:1:2\"\n",
    "    in the order of URL Source : Chunk Index\n",
    "    and return back chunks with appended id\n",
    "    \"\"\"\n",
    "    current_chunk_index = 0\n",
    "    prevSource = ''\n",
    "    \n",
    "    for chunk in chunks:\n",
    "        source = chunk.metadata.get(\"source\")\n",
    "        \n",
    "        if prevSource == '':\n",
    "            current_chunk_index = 0\n",
    "        elif prevSource == source:\n",
    "            current_chunk_index += 1\n",
    "        \n",
    "        chunk_id = f\"{source}:{current_chunk_index}\"\n",
    "        \n",
    "        # Add it to the page meta-data\n",
    "        chunk.metadata[\"id\"] = chunk_id\n",
    "        prevSource = source\n",
    "    \n",
    "    return chunks"
   ]
  },
  {
   "cell_type": "code",
   "execution_count": 39,
   "id": "ae11df16",
   "metadata": {},
   "outputs": [
    {
     "name": "stdout",
     "output_type": "stream",
     "text": [
      "Number of existing documents in DB: 1439\n",
      "Adding new documents: 18\n"
     ]
    },
    {
     "name": "stderr",
     "output_type": "stream",
     "text": [
      "C:\\Users\\Ning\\AppData\\Local\\Temp\\ipykernel_30236\\262143385.py:19: LangChainDeprecationWarning: Since Chroma 0.4.x the manual persistence method is no longer supported as docs are automatically persisted.\n",
      "  chroma_db.persist()\n"
     ]
    }
   ],
   "source": [
    "# Calculate Page IDs\n",
    "url_chunks_with_ids = calculate_web_chunk(new_documents)\n",
    "\n",
    "# Add or update the documents\n",
    "existing_items = chroma_db.get(include=[]) # IDs are always included by default\n",
    "existing_ids = set(existing_items[\"ids\"])\n",
    "print(f\"Number of existing documents in DB: {len(existing_ids)}\")\n",
    "\n",
    "# Only add url documents that don't exist in the DB\n",
    "new_chunks = []\n",
    "for chunk in url_chunks_with_ids:\n",
    "    if chunk.metadata[\"id\"] not in existing_ids:\n",
    "        new_chunks.append(chunk)\n",
    "\n",
    "if len(new_chunks):\n",
    "    print(f\"Adding new documents: {len(new_chunks)}\")\n",
    "    new_chunk_ids = [chunk.metadata[\"id\"] for chunk in new_chunks]\n",
    "    chroma_db.add_documents(new_chunks, ids=new_chunk_ids)\n",
    "    chroma_db.persist()\n",
    "else:\n",
    "    print(\"No new documents to add\")"
   ]
  },
  {
   "cell_type": "code",
   "execution_count": 42,
   "id": "687f604c",
   "metadata": {},
   "outputs": [],
   "source": [
    "# Example query\n",
    "query_text = \"What is the recipe for Beer Potage?\"\n",
    "\n",
    "# Search the DB for the most relevant chunks (based on embeddings)\n",
    "# Find the top 5 results based on the similarity\n",
    "results = chroma_db.similarity_search_with_score(query_text, k=5)\n",
    "\n",
    "# Create the context for the search results\n",
    "context_text = \"\\n\\n---\\n\\n\".join([doc.page_content for doc, _score in results])"
   ]
  },
  {
   "cell_type": "code",
   "execution_count": 43,
   "id": "de43a664",
   "metadata": {},
   "outputs": [
    {
     "name": "stdout",
     "output_type": "stream",
     "text": [
      "Human: \n",
      "Answer the question based only on the following context:\n",
      "\n",
      "Beer Potage In The Blood of Elves, Ciri and Triss are enjoying dinner at Kaer Morhen, dinner being \"beer potage, thick with cheese and croutons.\" Potage is a French word, meaning a thick and creamy soup. Initially, I was thinking this was along the lines of German beer and cheddar soup, but apparently Polish beer soup is a little different. It's heavier and sweet, almost like a smooth porridge. It's very filling. I recommend using Żywiec Porter, a wonderful Polish import, but any full bodied dark beer will do.  So sit down, toss a coin to your Witcher, and eat some hearty beer potage.   Ingredients  For the Rye Croutons:  For the soup:  Directions   To make the rye croutons:  For the soup: Ta zupa jest absolutnie pyszna!\n",
      "\n",
      "---\n",
      "\n",
      "• Cocktail Shaker\n",
      "• Serving glass (Hurricane glass if you want to \n",
      "be accurate to the in-game image)\n",
      "• Spoon or stirring rod\n",
      "• Strainer\n",
      "Non-Alcoholic Version Only\n",
      "• Small pot\n",
      "• Wooden spoon (or other utensil for stirring \n",
      "hot liquid)\n",
      "• Measuring tools (spoons and cups)Tools and UtensilsTools and Utensils\n",
      "IngredientsIngredientsApple CiderApple Cider\n",
      "Difficulty:Chef: Sky, Faith      Contains: Alcohol \n",
      "(Non-Alcoholic option included)\n",
      "Vegetarian, Gluten-Free\n",
      "Non-Alcoholic\n",
      "• ½ cup of white sugar \n",
      "(or raw)\n",
      "• ½ cup of water\n",
      "• 1 tbsp. of Five-Spice \n",
      "Powder\n",
      "• 1 apple\n",
      "• Ice\n",
      "• 4 oz of apple cider\n",
      "• 1 tsp of honey\n",
      "• 1 tsp of apple cider \n",
      "vinegar \n",
      "• 2 sage leavesAlcoholic\n",
      "• 1 apple\n",
      "• 7 sage leaves (5 for \n",
      "drink, 2 for garnish)\n",
      "• ½ oz of maple syrup\n",
      "• 1 ½ oz of dark rum \n",
      "• ½ oz of Amaretto\n",
      "\n",
      "---\n",
      "\n",
      "IngredientsIngredients\n",
      "Stew\n",
      "• 4 slices thick-cut raw bacon, large dice\n",
      "• 1 tbsp olive oil\n",
      "• 2 lb stewing beef chunks\n",
      "• 2 cups red wine (Chianti or Cabernet)\n",
      "• 1 carrot, peeled and chopped\n",
      "• 1 lb yellow potatoes, peeled and cubed \n",
      "(If using fingerlings, do not peel, cut into \n",
      "halves)\n",
      "• 4 cloves minced garlic\n",
      "• 1 tbsp tomato paste\n",
      "• 2 bay leaves\n",
      "• ½ tsp dried or fresh thyme, chopped\n",
      "• 2 tsp sea salt and fresh ground pepper\n",
      "• 3 cups beef stock\n",
      "• ¼ cup frozen or fresh peas\n",
      "Mushroom and Shallot Garniture \n",
      "• 1 package bella mushrooms, sliced\n",
      "• 1 shallot, thinly sliced\n",
      "• 1 tbsp olive oil\n",
      "• 1 tbsp butter\n",
      "Red wine reduction\n",
      "• Olive oil, enough to coat bottom of saute \n",
      "pan\n",
      "• ½ of one shallot, minced\n",
      "• ½ cup red wine \n",
      "• ½ cup beef stock\n",
      "• 2 tbsp butter\n",
      "• 1 tbsp rosemary, fresh or dried, chopped\n",
      "\n",
      "---\n",
      "\n",
      "this step is key to keeping the ﬁllet ﬁrm to achieve maximum crisp. 11.Hold the ﬁsh by the corner, and roll it into the beer batter mix. Gently whip the ﬁsh in the bowl to remove excess batter. 12.And in it goes! Drop the bass (sorry not sorry). Once the ﬁrst ﬁllet is in, move the pot back and forth in order to prevent the ﬁsh from sticking to the bottom. Oil should be gently bubbling away and your eyes ever watchful.  13.Fry each ﬁllet 3-5 minutes, ﬂipping with a holed spatula halfway through. Whenever the batter is golden and crisp, that will be the cue to ﬁsh out your now golden clouds of ﬂavor. 14.Let the ﬁsh rest on a paper towel for a few minutes. Finally, serve the ﬁsh alongside the potatoes and a salad mix of your choice (I recommend the pre-mixed kind so you don’t have to spend\n",
      "\n",
      "---\n",
      "\n",
      "flute or coupe)\n",
      "• Spoon or stirring rodTools and UtensilsTools and Utensils\n",
      "IngredientsIngredientsDeath After NoonDeath After Noon\n",
      "Difficulty:Chef: Sky      Contains: Alcohol \n",
      "Vegan, Gluten-Free\n",
      "• ½ cup of water\n",
      "• ½ cup of sugar\n",
      "• 1 apple\n",
      "• 1 oz of absinthe (chilled)\n",
      "• 2 oz of hard apple cider (chilled)\n",
      "• 2 oz of prosecco (or champagne)  (chilled)1 drink 10 min + time to cool 5 min\n",
      "74\n",
      "Sky\n",
      "Sky\n",
      "\n",
      "---\n",
      "\n",
      "Answer the question based on the above context: What is the recipe for Beer Potage?\n",
      "\n"
     ]
    }
   ],
   "source": [
    "# Load the template for the prompt\n",
    "prompt_template = ChatPromptTemplate.from_template(PROMPT_TEMPLATE)\n",
    "prompt = prompt_template.format(context=context_text, question=query_text)\n",
    "print(prompt)"
   ]
  },
  {
   "cell_type": "code",
   "execution_count": 52,
   "id": "085210f2",
   "metadata": {},
   "outputs": [
    {
     "name": "stdout",
     "output_type": "stream",
     "text": [
      "Response:  To make the Beer Potage, you'll need the following ingredients:\n",
      "\n",
      "For the Rye Croutons:\n",
      "- 1 loaf of rye bread, cubed\n",
      "- 2 tablespoons of olive oil\n",
      "- Salt and pepper to taste\n",
      "\n",
      "For the soup:\n",
      "- 4 cups of dark beer (such as Żywiec Porter)\n",
      "- 1 large onion, chopped\n",
      "- 3 potatoes, peeled and diced\n",
      "- 2 carrots, peeled and sliced\n",
      "- 1 parsnip, peeled and diced\n",
      "- 2 cloves of garlic, minced\n",
      "- Salt and pepper to taste\n",
      "- 4 tablespoons of butter\n",
      "- 1 cup of sour cream (optional)\n",
      "- Chopped chives for garnish (optional)\n",
      "\n",
      "Directions:\n",
      "\n",
      "1. Preheat the oven to 350°F (175°C). Toss the rye bread cubes with olive oil, salt, and pepper. Spread them on a baking sheet and bake for about 10 minutes or until golden brown. Set aside.\n",
      "\n",
      "2. In a large pot, heat the dark beer over medium heat. Add the chopped onion, potatoes, carrots, parsnip, and garlic. Season with salt and pepper.\n",
      "\n",
      "3. Reduce the heat to low, cover the pot, and let it simmer for about 20-30 minutes or until the vegetables are tender.\n",
      "\n",
      "4. Using a hand blender or in batches in a regular blender, blend the soup until smooth. If desired, stir in sour cream before serving.\n",
      "\n",
      "5. Serve the Beer Potage hot with the rye croutons on top and chopped chives for garnish. Enjoy!\n",
      "Sources: ['http://www.geekychef.com/2020/04/beer-potage.html:0', 'data\\\\Teyvat Eats Fanzine.pdf:67:1', 'data\\\\Teyvat Eats Fanzine.pdf:62:0', 'data\\\\Unofficial FFXV Community Cookbook v4.0.pdf:109:1', 'data\\\\Teyvat Eats Fanzine.pdf:73:1']\n"
     ]
    }
   ],
   "source": [
    "response_text = model.invoke(prompt)\n",
    "\n",
    "sources = [doc.metadata.get(\"id\", None) for doc, _score in results]\n",
    "formatted_response = f\"Response: {response_text}\\nSources: {sources}\"\n",
    "print(formatted_response)"
   ]
  },
  {
   "cell_type": "code",
   "execution_count": null,
   "id": "7317f913",
   "metadata": {},
   "outputs": [],
   "source": []
  }
 ],
 "metadata": {
  "kernelspec": {
   "display_name": "Python 3 (ipykernel)",
   "language": "python",
   "name": "python3"
  },
  "language_info": {
   "codemirror_mode": {
    "name": "ipython",
    "version": 3
   },
   "file_extension": ".py",
   "mimetype": "text/x-python",
   "name": "python",
   "nbconvert_exporter": "python",
   "pygments_lexer": "ipython3",
   "version": "3.10.14"
  }
 },
 "nbformat": 4,
 "nbformat_minor": 5
}
